{
 "cells": [
  {
   "cell_type": "markdown",
   "metadata": {},
   "source": [
    "# Row Classifier\n",
    "### Targeting Grid: 5x5\n",
    "### Ocean Grid 5x5\n",
    "### No of Ships: 3 ships\n",
    "### Input : \n",
    "1. current targeting_grid - 25 features one for each co-ordinate\n",
    "2. prev_attack_co_ordinate (eg: A1)\n",
    "3. prev status (hit,miss,unknown)\n",
    "4. Column Classifier predicted column (eg: A)\n",
    "\n",
    "### Output:\n",
    "1. Predict one of the rows [1,2,3,4,5]\n",
    "\n",
    "### Trained model is saved in a file clf-col-xgboost-{current time}.joblib and used by game.py"
   ]
  },
  {
   "cell_type": "code",
   "execution_count": 1,
   "metadata": {},
   "outputs": [],
   "source": [
    "import pandas as pd\n",
    "import numpy as np\n",
    "import xgboost as xgb\n",
    "from sklearn.model_selection import train_test_split\n",
    "import matplotlib.pyplot as plt\n",
    "import seaborn as sns"
   ]
  },
  {
   "cell_type": "code",
   "execution_count": 2,
   "metadata": {},
   "outputs": [],
   "source": [
    "X_train = pd.read_csv('dataset_X_train_row.csv', index_col='index')\n",
    "y_train = pd.read_csv('dataset_y_train_row.csv', index_col='index')\n",
    "X_test = pd.read_csv('dataset_X_test_row.csv', index_col='index')\n",
    "y_test = pd.read_csv('dataset_y_test_row.csv', index_col='index')"
   ]
  },
  {
   "cell_type": "code",
   "execution_count": 3,
   "metadata": {
    "scrolled": true
   },
   "outputs": [
    {
     "name": "stdout",
     "output_type": "stream",
     "text": [
      "<class 'pandas.core.frame.DataFrame'>\n",
      "Int64Index: 419 entries, 2 to 23\n",
      "Data columns (total 43 columns):\n",
      "cor_0                419 non-null int64\n",
      "cor_1                419 non-null int64\n",
      "cor_2                419 non-null int64\n",
      "cor_3                419 non-null int64\n",
      "cor_4                419 non-null int64\n",
      "cor_5                419 non-null int64\n",
      "cor_6                419 non-null int64\n",
      "cor_7                419 non-null int64\n",
      "cor_8                419 non-null int64\n",
      "cor_9                419 non-null int64\n",
      "cor_10               419 non-null int64\n",
      "cor_11               419 non-null int64\n",
      "cor_12               419 non-null int64\n",
      "cor_13               419 non-null int64\n",
      "cor_14               419 non-null int64\n",
      "cor_15               419 non-null int64\n",
      "cor_16               419 non-null int64\n",
      "cor_17               419 non-null int64\n",
      "cor_18               419 non-null int64\n",
      "cor_19               419 non-null int64\n",
      "cor_20               419 non-null int64\n",
      "cor_21               419 non-null int64\n",
      "cor_22               419 non-null int64\n",
      "cor_23               419 non-null int64\n",
      "cor_24               419 non-null int64\n",
      "status_hit           419 non-null int64\n",
      "status_miss          419 non-null int64\n",
      "status_shipsunk      419 non-null int64\n",
      "prev_attack_col_a    419 non-null int64\n",
      "prev_attack_col_b    419 non-null int64\n",
      "prev_attack_col_c    419 non-null int64\n",
      "prev_attack_col_d    419 non-null int64\n",
      "prev_attack_col_e    419 non-null int64\n",
      "prev_attack_row_1    419 non-null int64\n",
      "prev_attack_row_2    419 non-null int64\n",
      "prev_attack_row_3    419 non-null int64\n",
      "prev_attack_row_4    419 non-null int64\n",
      "prev_attack_row_5    419 non-null int64\n",
      "attack_col_a         419 non-null int64\n",
      "attack_col_b         419 non-null int64\n",
      "attack_col_c         419 non-null int64\n",
      "attack_col_d         419 non-null int64\n",
      "attack_col_e         419 non-null int64\n",
      "dtypes: int64(43)\n",
      "memory usage: 144.0 KB\n",
      "<class 'pandas.core.frame.DataFrame'>\n",
      "Int64Index: 419 entries, 2 to 23\n",
      "Data columns (total 1 columns):\n",
      "attack_row    419 non-null int64\n",
      "dtypes: int64(1)\n",
      "memory usage: 6.5 KB\n",
      "<class 'pandas.core.frame.DataFrame'>\n",
      "Int64Index: 99 entries, 2 to 17\n",
      "Data columns (total 43 columns):\n",
      "cor_0                99 non-null int64\n",
      "cor_1                99 non-null int64\n",
      "cor_2                99 non-null int64\n",
      "cor_3                99 non-null int64\n",
      "cor_4                99 non-null int64\n",
      "cor_5                99 non-null int64\n",
      "cor_6                99 non-null int64\n",
      "cor_7                99 non-null int64\n",
      "cor_8                99 non-null int64\n",
      "cor_9                99 non-null int64\n",
      "cor_10               99 non-null int64\n",
      "cor_11               99 non-null int64\n",
      "cor_12               99 non-null int64\n",
      "cor_13               99 non-null int64\n",
      "cor_14               99 non-null int64\n",
      "cor_15               99 non-null int64\n",
      "cor_16               99 non-null int64\n",
      "cor_17               99 non-null int64\n",
      "cor_18               99 non-null int64\n",
      "cor_19               99 non-null int64\n",
      "cor_20               99 non-null int64\n",
      "cor_21               99 non-null int64\n",
      "cor_22               99 non-null int64\n",
      "cor_23               99 non-null int64\n",
      "cor_24               99 non-null int64\n",
      "status_hit           99 non-null int64\n",
      "status_miss          99 non-null int64\n",
      "status_shipsunk      99 non-null int64\n",
      "prev_attack_col_a    99 non-null int64\n",
      "prev_attack_col_b    99 non-null int64\n",
      "prev_attack_col_c    99 non-null int64\n",
      "prev_attack_col_d    99 non-null int64\n",
      "prev_attack_col_e    99 non-null int64\n",
      "prev_attack_row_1    99 non-null int64\n",
      "prev_attack_row_2    99 non-null int64\n",
      "prev_attack_row_3    99 non-null int64\n",
      "prev_attack_row_4    99 non-null int64\n",
      "prev_attack_row_5    99 non-null int64\n",
      "attack_col_a         99 non-null int64\n",
      "attack_col_b         99 non-null int64\n",
      "attack_col_c         99 non-null int64\n",
      "attack_col_d         99 non-null int64\n",
      "attack_col_e         99 non-null int64\n",
      "dtypes: int64(43)\n",
      "memory usage: 34.0 KB\n",
      "<class 'pandas.core.frame.DataFrame'>\n",
      "Int64Index: 99 entries, 2 to 17\n",
      "Data columns (total 1 columns):\n",
      "attack_row    99 non-null int64\n",
      "dtypes: int64(1)\n",
      "memory usage: 1.5 KB\n"
     ]
    },
    {
     "data": {
      "text/plain": [
       "(None, None, None, None)"
      ]
     },
     "execution_count": 3,
     "metadata": {},
     "output_type": "execute_result"
    }
   ],
   "source": [
    "X_train.info(), y_train.info(), X_test.info(), y_test.info()"
   ]
  },
  {
   "cell_type": "code",
   "execution_count": 4,
   "metadata": {},
   "outputs": [
    {
     "data": {
      "text/html": [
       "<div>\n",
       "<style scoped>\n",
       "    .dataframe tbody tr th:only-of-type {\n",
       "        vertical-align: middle;\n",
       "    }\n",
       "\n",
       "    .dataframe tbody tr th {\n",
       "        vertical-align: top;\n",
       "    }\n",
       "\n",
       "    .dataframe thead th {\n",
       "        text-align: right;\n",
       "    }\n",
       "</style>\n",
       "<table border=\"1\" class=\"dataframe\">\n",
       "  <thead>\n",
       "    <tr style=\"text-align: right;\">\n",
       "      <th></th>\n",
       "      <th>cor_0</th>\n",
       "      <th>cor_1</th>\n",
       "      <th>cor_2</th>\n",
       "      <th>cor_3</th>\n",
       "      <th>cor_4</th>\n",
       "      <th>cor_5</th>\n",
       "      <th>cor_6</th>\n",
       "      <th>cor_7</th>\n",
       "      <th>cor_8</th>\n",
       "      <th>cor_9</th>\n",
       "      <th>...</th>\n",
       "      <th>prev_attack_row_1</th>\n",
       "      <th>prev_attack_row_2</th>\n",
       "      <th>prev_attack_row_3</th>\n",
       "      <th>prev_attack_row_4</th>\n",
       "      <th>prev_attack_row_5</th>\n",
       "      <th>attack_col_a</th>\n",
       "      <th>attack_col_b</th>\n",
       "      <th>attack_col_c</th>\n",
       "      <th>attack_col_d</th>\n",
       "      <th>attack_col_e</th>\n",
       "    </tr>\n",
       "    <tr>\n",
       "      <th>index</th>\n",
       "      <th></th>\n",
       "      <th></th>\n",
       "      <th></th>\n",
       "      <th></th>\n",
       "      <th></th>\n",
       "      <th></th>\n",
       "      <th></th>\n",
       "      <th></th>\n",
       "      <th></th>\n",
       "      <th></th>\n",
       "      <th></th>\n",
       "      <th></th>\n",
       "      <th></th>\n",
       "      <th></th>\n",
       "      <th></th>\n",
       "      <th></th>\n",
       "      <th></th>\n",
       "      <th></th>\n",
       "      <th></th>\n",
       "      <th></th>\n",
       "      <th></th>\n",
       "    </tr>\n",
       "  </thead>\n",
       "  <tbody>\n",
       "    <tr>\n",
       "      <th>2</th>\n",
       "      <td>0</td>\n",
       "      <td>-1</td>\n",
       "      <td>0</td>\n",
       "      <td>0</td>\n",
       "      <td>0</td>\n",
       "      <td>0</td>\n",
       "      <td>0</td>\n",
       "      <td>0</td>\n",
       "      <td>0</td>\n",
       "      <td>0</td>\n",
       "      <td>...</td>\n",
       "      <td>0</td>\n",
       "      <td>0</td>\n",
       "      <td>1</td>\n",
       "      <td>0</td>\n",
       "      <td>0</td>\n",
       "      <td>0</td>\n",
       "      <td>0</td>\n",
       "      <td>0</td>\n",
       "      <td>0</td>\n",
       "      <td>1</td>\n",
       "    </tr>\n",
       "    <tr>\n",
       "      <th>3</th>\n",
       "      <td>0</td>\n",
       "      <td>-1</td>\n",
       "      <td>0</td>\n",
       "      <td>0</td>\n",
       "      <td>0</td>\n",
       "      <td>0</td>\n",
       "      <td>0</td>\n",
       "      <td>0</td>\n",
       "      <td>0</td>\n",
       "      <td>0</td>\n",
       "      <td>...</td>\n",
       "      <td>0</td>\n",
       "      <td>0</td>\n",
       "      <td>0</td>\n",
       "      <td>0</td>\n",
       "      <td>1</td>\n",
       "      <td>0</td>\n",
       "      <td>0</td>\n",
       "      <td>0</td>\n",
       "      <td>0</td>\n",
       "      <td>1</td>\n",
       "    </tr>\n",
       "    <tr>\n",
       "      <th>4</th>\n",
       "      <td>0</td>\n",
       "      <td>-1</td>\n",
       "      <td>0</td>\n",
       "      <td>0</td>\n",
       "      <td>0</td>\n",
       "      <td>0</td>\n",
       "      <td>0</td>\n",
       "      <td>0</td>\n",
       "      <td>0</td>\n",
       "      <td>0</td>\n",
       "      <td>...</td>\n",
       "      <td>0</td>\n",
       "      <td>0</td>\n",
       "      <td>0</td>\n",
       "      <td>1</td>\n",
       "      <td>0</td>\n",
       "      <td>0</td>\n",
       "      <td>0</td>\n",
       "      <td>0</td>\n",
       "      <td>0</td>\n",
       "      <td>1</td>\n",
       "    </tr>\n",
       "    <tr>\n",
       "      <th>5</th>\n",
       "      <td>0</td>\n",
       "      <td>-1</td>\n",
       "      <td>0</td>\n",
       "      <td>0</td>\n",
       "      <td>0</td>\n",
       "      <td>0</td>\n",
       "      <td>0</td>\n",
       "      <td>0</td>\n",
       "      <td>0</td>\n",
       "      <td>0</td>\n",
       "      <td>...</td>\n",
       "      <td>0</td>\n",
       "      <td>0</td>\n",
       "      <td>1</td>\n",
       "      <td>0</td>\n",
       "      <td>0</td>\n",
       "      <td>1</td>\n",
       "      <td>0</td>\n",
       "      <td>0</td>\n",
       "      <td>0</td>\n",
       "      <td>0</td>\n",
       "    </tr>\n",
       "    <tr>\n",
       "      <th>6</th>\n",
       "      <td>0</td>\n",
       "      <td>-1</td>\n",
       "      <td>0</td>\n",
       "      <td>0</td>\n",
       "      <td>0</td>\n",
       "      <td>0</td>\n",
       "      <td>0</td>\n",
       "      <td>0</td>\n",
       "      <td>0</td>\n",
       "      <td>0</td>\n",
       "      <td>...</td>\n",
       "      <td>0</td>\n",
       "      <td>0</td>\n",
       "      <td>0</td>\n",
       "      <td>0</td>\n",
       "      <td>1</td>\n",
       "      <td>0</td>\n",
       "      <td>0</td>\n",
       "      <td>0</td>\n",
       "      <td>1</td>\n",
       "      <td>0</td>\n",
       "    </tr>\n",
       "  </tbody>\n",
       "</table>\n",
       "<p>5 rows × 43 columns</p>\n",
       "</div>"
      ],
      "text/plain": [
       "       cor_0  cor_1  cor_2  cor_3  cor_4  cor_5  cor_6  cor_7  cor_8  cor_9  \\\n",
       "index                                                                         \n",
       "2          0     -1      0      0      0      0      0      0      0      0   \n",
       "3          0     -1      0      0      0      0      0      0      0      0   \n",
       "4          0     -1      0      0      0      0      0      0      0      0   \n",
       "5          0     -1      0      0      0      0      0      0      0      0   \n",
       "6          0     -1      0      0      0      0      0      0      0      0   \n",
       "\n",
       "       ...  prev_attack_row_1  prev_attack_row_2  prev_attack_row_3  \\\n",
       "index  ...                                                            \n",
       "2      ...                  0                  0                  1   \n",
       "3      ...                  0                  0                  0   \n",
       "4      ...                  0                  0                  0   \n",
       "5      ...                  0                  0                  1   \n",
       "6      ...                  0                  0                  0   \n",
       "\n",
       "       prev_attack_row_4  prev_attack_row_5  attack_col_a  attack_col_b  \\\n",
       "index                                                                     \n",
       "2                      0                  0             0             0   \n",
       "3                      0                  1             0             0   \n",
       "4                      1                  0             0             0   \n",
       "5                      0                  0             1             0   \n",
       "6                      0                  1             0             0   \n",
       "\n",
       "       attack_col_c  attack_col_d  attack_col_e  \n",
       "index                                            \n",
       "2                 0             0             1  \n",
       "3                 0             0             1  \n",
       "4                 0             0             1  \n",
       "5                 0             0             0  \n",
       "6                 0             1             0  \n",
       "\n",
       "[5 rows x 43 columns]"
      ]
     },
     "execution_count": 4,
     "metadata": {},
     "output_type": "execute_result"
    }
   ],
   "source": [
    "X_train.head()"
   ]
  },
  {
   "cell_type": "code",
   "execution_count": 5,
   "metadata": {},
   "outputs": [
    {
     "data": {
      "text/plain": [
       "<BarContainer object of 5 artists>"
      ]
     },
     "execution_count": 5,
     "metadata": {},
     "output_type": "execute_result"
    },
    {
     "data": {
      "image/png": "[encoded data removed]",
      "text/plain": [
       "<Figure size 432x288 with 1 Axes>"
      ]
     },
     "metadata": {
      "needs_background": "light"
     },
     "output_type": "display_data"
    }
   ],
   "source": [
    "plt.bar(y_train.attack_row.unique(),y_train['attack_row'].value_counts())"
   ]
  },
  {
   "cell_type": "code",
   "execution_count": 6,
   "metadata": {
    "collapsed": true
   },
   "outputs": [
    {
     "data": {
      "text/plain": [
       "<BarContainer object of 5 artists>"
      ]
     },
     "execution_count": 6,
     "metadata": {},
     "output_type": "execute_result"
    },
    {
     "data": {
      "image/png": "[encoded data removed]",
      "text/plain": [
       "<Figure size 432x288 with 1 Axes>"
      ]
     },
     "metadata": {
      "needs_background": "light"
     },
     "output_type": "display_data"
    }
   ],
   "source": [
    "data = pd.concat([X_train, y_train], axis=1)\n",
    "plt.bar(data['attack_row'].unique(), data['attack_row'].value_counts())"
   ]
  },
  {
   "cell_type": "code",
   "execution_count": 7,
   "metadata": {},
   "outputs": [
    {
     "name": "stdout",
     "output_type": "stream",
     "text": [
      "(419, 44)\n",
      "(465, 44)\n"
     ]
    }
   ],
   "source": [
    "print(data.shape)\n",
    "max_num = max(data['attack_row'].value_counts())\n",
    "for label in data['attack_row'].unique():\n",
    "    label_data = data[data.attack_row == label]\n",
    "    data = pd.concat([data, label_data.sample(max_num - len(label_data))])\n",
    "print(data.shape)"
   ]
  },
  {
   "cell_type": "code",
   "execution_count": 8,
   "metadata": {},
   "outputs": [
    {
     "data": {
      "text/plain": [
       "<BarContainer object of 5 artists>"
      ]
     },
     "execution_count": 8,
     "metadata": {},
     "output_type": "execute_result"
    },
    {
     "data": {
      "image/png": "[encoded data removed]",
      "text/plain": [
       "<Figure size 432x288 with 1 Axes>"
      ]
     },
     "metadata": {
      "needs_background": "light"
     },
     "output_type": "display_data"
    }
   ],
   "source": [
    "plt.bar(data['attack_row'].unique(), data['attack_row'].value_counts())"
   ]
  },
  {
   "cell_type": "code",
   "execution_count": 9,
   "metadata": {},
   "outputs": [
    {
     "data": {
      "text/plain": [
       "((419, 43), (99, 43), (419, 1), (99, 1))"
      ]
     },
     "execution_count": 9,
     "metadata": {},
     "output_type": "execute_result"
    }
   ],
   "source": [
    "# already split from the files so, we dont need to do it here.\n",
    "# X_train, X_test, y_train, y_test = train_test_split(X, y, test_size=0.2)\n",
    "X_train.shape, X_test.shape, y_train.shape, y_test.shape"
   ]
  },
  {
   "cell_type": "code",
   "execution_count": 10,
   "metadata": {},
   "outputs": [
    {
     "name": "stdout",
     "output_type": "stream",
     "text": [
      "[0]\tvalidation_0-merror:0.272727\n",
      "Will train until validation_0-merror hasn't improved in 10 rounds.\n",
      "[1]\tvalidation_0-merror:0.252525\n",
      "[2]\tvalidation_0-merror:0.212121\n",
      "[3]\tvalidation_0-merror:0.212121\n",
      "[4]\tvalidation_0-merror:0.181818\n",
      "[5]\tvalidation_0-merror:0.181818\n",
      "[6]\tvalidation_0-merror:0.181818\n",
      "[7]\tvalidation_0-merror:0.171717\n",
      "[8]\tvalidation_0-merror:0.181818\n",
      "[9]\tvalidation_0-merror:0.161616\n",
      "[10]\tvalidation_0-merror:0.161616\n",
      "[11]\tvalidation_0-merror:0.161616\n",
      "[12]\tvalidation_0-merror:0.171717\n",
      "[13]\tvalidation_0-merror:0.161616\n",
      "[14]\tvalidation_0-merror:0.161616\n",
      "[15]\tvalidation_0-merror:0.151515\n",
      "[16]\tvalidation_0-merror:0.151515\n",
      "[17]\tvalidation_0-merror:0.141414\n",
      "[18]\tvalidation_0-merror:0.131313\n"
     ]
    },
    {
     "name": "stderr",
     "output_type": "stream",
     "text": [
      "/usr/local/lib/python3.6/dist-packages/sklearn/preprocessing/label.py:219: DataConversionWarning: A column-vector y was passed when a 1d array was expected. Please change the shape of y to (n_samples, ), for example using ravel().\n",
      "  y = column_or_1d(y, warn=True)\n",
      "/usr/local/lib/python3.6/dist-packages/sklearn/preprocessing/label.py:252: DataConversionWarning: A column-vector y was passed when a 1d array was expected. Please change the shape of y to (n_samples, ), for example using ravel().\n",
      "  y = column_or_1d(y, warn=True)\n"
     ]
    },
    {
     "name": "stdout",
     "output_type": "stream",
     "text": [
      "[19]\tvalidation_0-merror:0.131313\n",
      "[20]\tvalidation_0-merror:0.141414\n",
      "[21]\tvalidation_0-merror:0.141414\n",
      "[22]\tvalidation_0-merror:0.131313\n",
      "[23]\tvalidation_0-merror:0.141414\n",
      "[24]\tvalidation_0-merror:0.131313\n",
      "[25]\tvalidation_0-merror:0.131313\n",
      "[26]\tvalidation_0-merror:0.131313\n",
      "[27]\tvalidation_0-merror:0.131313\n",
      "[28]\tvalidation_0-merror:0.131313\n",
      "Stopping. Best iteration:\n",
      "[18]\tvalidation_0-merror:0.131313\n",
      "\n"
     ]
    },
    {
     "data": {
      "text/plain": [
       "XGBClassifier(base_score=0.5, booster='gbtree', colsample_bylevel=1,\n",
       "              colsample_bynode=1, colsample_bytree=1, gamma=0,\n",
       "              learning_rate=0.1, max_delta_step=0, max_depth=16,\n",
       "              min_child_weight=1, missing=None, n_estimators=100, n_jobs=1,\n",
       "              nthread=None, num_class=5, objective='multi:softprob',\n",
       "              random_state=0, reg_alpha=0, reg_lambda=1, scale_pos_weight=1,\n",
       "              seed=None, silent=None, subsample=1, verbosity=1)"
      ]
     },
     "execution_count": 10,
     "metadata": {},
     "output_type": "execute_result"
    }
   ],
   "source": [
    "param_dist = {'objective':'multi:softmax', 'num_class':5, 'n_estimators':100, 'max_depth':16}\n",
    "clf_row = xgb.XGBClassifier(**param_dist)\n",
    "clf_row.fit(X_train, y_train, early_stopping_rounds=10, eval_metric='merror',  eval_set=[(X_test, y_test)])"
   ]
  },
  {
   "cell_type": "code",
   "execution_count": 11,
   "metadata": {},
   "outputs": [
    {
     "data": {
      "text/plain": [
       "0.8686868686868687"
      ]
     },
     "execution_count": 11,
     "metadata": {},
     "output_type": "execute_result"
    }
   ],
   "source": [
    "clf_row.score(X_test, y_test)"
   ]
  },
  {
   "cell_type": "code",
   "execution_count": 12,
   "metadata": {},
   "outputs": [
    {
     "data": {
      "text/plain": [
       "0.9665871121718377"
      ]
     },
     "execution_count": 12,
     "metadata": {},
     "output_type": "execute_result"
    }
   ],
   "source": [
    "clf_row.score(X_train, y_train)"
   ]
  },
  {
   "cell_type": "code",
   "execution_count": 13,
   "metadata": {},
   "outputs": [
    {
     "data": {
      "text/plain": [
       "array([3, 3, 2, 2, 2, 1, 2, 2, 5, 4, 3, 5, 5, 2, 5, 5, 5, 5, 1, 3, 4, 3,\n",
       "       3, 3, 1, 4, 1, 4, 1, 1, 2, 1, 2, 2, 3, 1, 2, 2, 4, 4, 4, 1, 2, 3,\n",
       "       1, 1, 2, 3, 4, 5, 3, 3, 4, 2, 3, 4, 3, 5, 4, 5, 4, 1, 1, 1, 1, 5,\n",
       "       5, 2, 2, 3, 1, 1, 3, 2, 2, 5, 4, 5, 3, 4, 5, 5, 4, 1, 5, 1, 2, 2,\n",
       "       2, 2, 5, 5, 3, 4, 5, 5, 5, 4, 3])"
      ]
     },
     "execution_count": 13,
     "metadata": {},
     "output_type": "execute_result"
    }
   ],
   "source": [
    "y_pred = clf_row.predict(X_test)\n",
    "y_pred"
   ]
  },
  {
   "cell_type": "code",
   "execution_count": 14,
   "metadata": {},
   "outputs": [
    {
     "name": "stdout",
     "output_type": "stream",
     "text": [
      "              precision    recall  f1-score   support\n",
      "\n",
      "           1       0.79      0.83      0.81        18\n",
      "           2       0.91      0.87      0.89        23\n",
      "           3       0.89      1.00      0.94        17\n",
      "           4       0.88      0.75      0.81        20\n",
      "           5       0.86      0.90      0.88        21\n",
      "\n",
      "    accuracy                           0.87        99\n",
      "   macro avg       0.87      0.87      0.87        99\n",
      "weighted avg       0.87      0.87      0.87        99\n",
      "\n"
     ]
    }
   ],
   "source": [
    "from sklearn.metrics import classification_report\n",
    "print(classification_report(y_test, y_pred))"
   ]
  },
  {
   "cell_type": "code",
   "execution_count": 15,
   "metadata": {},
   "outputs": [
    {
     "data": {
      "text/plain": [
       "array([[15,  2,  1,  0,  0],\n",
       "       [ 2, 20,  1,  0,  0],\n",
       "       [ 0,  0, 17,  0,  0],\n",
       "       [ 2,  0,  0, 15,  3],\n",
       "       [ 0,  0,  0,  2, 19]])"
      ]
     },
     "execution_count": 15,
     "metadata": {},
     "output_type": "execute_result"
    }
   ],
   "source": [
    "from sklearn.metrics import confusion_matrix\n",
    "cm = confusion_matrix(y_test, y_pred)\n",
    "cm"
   ]
  },
  {
   "cell_type": "code",
   "execution_count": 16,
   "metadata": {},
   "outputs": [
    {
     "data": {
      "text/plain": [
       "<matplotlib.axes._subplots.AxesSubplot at 0x7f5787fbf470>"
      ]
     },
     "execution_count": 16,
     "metadata": {},
     "output_type": "execute_result"
    },
    {
     "data": {
      "image/png": "[encoded data removed]",
      "text/plain": [
       "<Figure size 432x288 with 2 Axes>"
      ]
     },
     "metadata": {
      "needs_background": "light"
     },
     "output_type": "display_data"
    }
   ],
   "source": [
    "sns.heatmap(cm, xticklabels=clf_row.classes_, yticklabels=clf_row.classes_)"
   ]
  },
  {
   "cell_type": "code",
   "execution_count": 17,
   "metadata": {},
   "outputs": [
    {
     "data": {
      "text/plain": [
       "['clf-row-xgboost-Sun Oct 20 23:48:55 2019.joblib']"
      ]
     },
     "execution_count": 17,
     "metadata": {},
     "output_type": "execute_result"
    }
   ],
   "source": [
    "# Save the model\n",
    "from joblib import dump, load\n",
    "from datetime import datetime\n",
    "dump(clf_row, f'clf-row-xgboost-{datetime.now().ctime()}.joblib')\n"
   ]
  },
  {
   "cell_type": "code",
   "execution_count": 18,
   "metadata": {},
   "outputs": [
    {
     "name": "stderr",
     "output_type": "stream",
     "text": [
      "/usr/local/lib/python3.6/dist-packages/sklearn/model_selection/_split.py:1978: FutureWarning: The default value of cv will change from 3 to 5 in version 0.22. Specify it explicitly to silence this warning.\n",
      "  warnings.warn(CV_WARNING, FutureWarning)\n",
      "/usr/local/lib/python3.6/dist-packages/sklearn/preprocessing/label.py:219: DataConversionWarning: A column-vector y was passed when a 1d array was expected. Please change the shape of y to (n_samples, ), for example using ravel().\n",
      "  y = column_or_1d(y, warn=True)\n",
      "/usr/local/lib/python3.6/dist-packages/sklearn/preprocessing/label.py:252: DataConversionWarning: A column-vector y was passed when a 1d array was expected. Please change the shape of y to (n_samples, ), for example using ravel().\n",
      "  y = column_or_1d(y, warn=True)\n"
     ]
    },
    {
     "data": {
      "text/plain": [
       "((5,), (5, 3), (5, 3))"
      ]
     },
     "execution_count": 18,
     "metadata": {},
     "output_type": "execute_result"
    }
   ],
   "source": [
    "from sklearn.model_selection import learning_curve\n",
    "train_size, train_scores, cv_scores = learning_curve(clf_row, X_train, y_train)\n",
    "train_size.shape, train_scores.shape, cv_scores.shape"
   ]
  },
  {
   "cell_type": "code",
   "execution_count": 19,
   "metadata": {},
   "outputs": [],
   "source": [
    "train_scores_mean = np.mean(train_scores, axis=1)\n",
    "cv_scores_mean = np.mean(cv_scores, axis=1)"
   ]
  },
  {
   "cell_type": "code",
   "execution_count": 20,
   "metadata": {},
   "outputs": [
    {
     "data": {
      "image/png": "[encoded data removed]",
      "text/plain": [
       "<Figure size 432x288 with 1 Axes>"
      ]
     },
     "metadata": {
      "needs_background": "light"
     },
     "output_type": "display_data"
    }
   ],
   "source": [
    "plt.plot(train_size, train_scores_mean, 'o-', color='red', label='Training Score')\n",
    "plt.plot(train_size, cv_scores_mean, 'o-', color='green', label='CV Score')\n",
    "plt.legend()\n",
    "plt.show()"
   ]
  },
  {
   "cell_type": "code",
   "execution_count": null,
   "metadata": {},
   "outputs": [],
   "source": []
  }
 ],
 "metadata": {
  "kernelspec": {
   "display_name": "Python 3",
   "language": "python",
   "name": "python3"
  },
  "language_info": {
   "codemirror_mode": {
    "name": "ipython",
    "version": 3
   },
   "file_extension": ".py",
   "mimetype": "text/x-python",
   "name": "python",
   "nbconvert_exporter": "python",
   "pygments_lexer": "ipython3",
   "version": "3.6.8"
  }
 },
 "nbformat": 4,
 "nbformat_minor": 2
}
