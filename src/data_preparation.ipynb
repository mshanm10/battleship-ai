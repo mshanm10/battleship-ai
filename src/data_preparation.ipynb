{
 "cells": [
  {
   "cell_type": "code",
   "execution_count": 1,
   "metadata": {},
   "outputs": [],
   "source": [
    "import pandas as pd\n",
    "import numpy as np"
   ]
  },
  {
   "cell_type": "code",
   "execution_count": 2,
   "metadata": {},
   "outputs": [
    {
     "name": "stdout",
     "output_type": "stream",
     "text": [
      "Loading 48 files\n",
      "train - 38, test - 9\n"
     ]
    },
    {
     "data": {
      "text/plain": [
       "((528, 28), (129, 28))"
      ]
     },
     "execution_count": 2,
     "metadata": {},
     "output_type": "execute_result"
    }
   ],
   "source": [
    "import glob\n",
    "import os\n",
    "import random\n",
    "csvs = glob.glob('Player A-*.csv')\n",
    "print(f\"Loading {len(csvs)} files\")\n",
    "columns = [f'cor_{i}' for i in range(25)] + ['status', 'attack']\n",
    "train_csvs = random.sample(csvs, int(len(csvs)*.8))\n",
    "test_csvs = random.sample(csvs, int(len(csvs)*.2))\n",
    "print(f\"train - {len(train_csvs)}, test - {len(test_csvs)}\")\n",
    "train_data = pd.DataFrame()\n",
    "for csv in train_csvs:\n",
    "    df = pd.read_csv(csv, index_col=None, header=None, names=columns)\n",
    "    df['prev_attack'] = np.append(['N/A'], df['attack'].to_numpy()[0:-1])\n",
    "    train_data = pd.concat([train_data, df])\n",
    "test_data = pd.DataFrame()\n",
    "for csv in test_csvs:\n",
    "    df = pd.read_csv(csv, index_col=None, header=None, names=columns)\n",
    "    df['prev_attack'] = np.append(['N/A'], df['attack'].to_numpy()[0:-1])    \n",
    "    test_data = pd.concat([test_data, df])\n",
    "train_data.shape, test_data.shape"
   ]
  },
  {
   "cell_type": "code",
   "execution_count": 3,
   "metadata": {},
   "outputs": [
    {
     "name": "stdout",
     "output_type": "stream",
     "text": [
      "Dropped 73 rows\n",
      "Dropped 18 rows\n"
     ]
    }
   ],
   "source": [
    "before = len(train_data)\n",
    "train_data = train_data.drop(train_data['prev_attack'] == 'N/A')\n",
    "print(f\"Dropped {before - len(train_data)} rows\")\n",
    "\n",
    "before = len(test_data)\n",
    "test_data = test_data.drop(test_data['prev_attack'] == 'N/A')\n",
    "print(f\"Dropped {before - len(test_data)} rows\")"
   ]
  },
  {
   "cell_type": "code",
   "execution_count": 5,
   "metadata": {},
   "outputs": [
    {
     "data": {
      "text/plain": [
       "array([' Hit', ' Ship Sunk', ' Miss', ' Won'], dtype=object)"
      ]
     },
     "execution_count": 5,
     "metadata": {},
     "output_type": "execute_result"
    }
   ],
   "source": [
    "train_data.status.unique()"
   ]
  },
  {
   "cell_type": "code",
   "execution_count": 6,
   "metadata": {},
   "outputs": [
    {
     "data": {
      "text/plain": [
       "(2         hit\n",
       " 3         hit\n",
       " 4    shipsunk\n",
       " 5        miss\n",
       " 6         hit\n",
       " Name: status, dtype: object, 2     hit\n",
       " 3     hit\n",
       " 4    miss\n",
       " 5    miss\n",
       " 6     hit\n",
       " Name: status, dtype: object)"
      ]
     },
     "execution_count": 6,
     "metadata": {},
     "output_type": "execute_result"
    }
   ],
   "source": [
    "def clean_status(df):\n",
    "    return df.status.apply(str.strip)\\\n",
    "                        .apply(str.lower)\\\n",
    "                        .apply(lambda v: v.replace(' ', ''))\\\n",
    "                        .apply(lambda v: v.replace('n/a', 'na'))\n",
    "train_data.status = clean_status(train_data)\n",
    "test_data.status = clean_status(test_data)\n",
    "train_data.status.head(), test_data.status.head()"
   ]
  },
  {
   "cell_type": "code",
   "execution_count": 7,
   "metadata": {},
   "outputs": [
    {
     "name": "stdout",
     "output_type": "stream",
     "text": [
      "Dropped 29 rows\n",
      "Dropped 6 rows\n"
     ]
    }
   ],
   "source": [
    "def droprows_na(df):\n",
    "    before = len(df)\n",
    "    df = df.dropna(how='any')\n",
    "    print(f'Dropped {before-len(df)} rows')\n",
    "    return df\n",
    "\n",
    "train_data = droprows_na(train_data)\n",
    "test_data = droprows_na(test_data)"
   ]
  },
  {
   "cell_type": "code",
   "execution_count": 8,
   "metadata": {},
   "outputs": [
    {
     "data": {
      "text/plain": [
       "array(['hit', 'shipsunk', 'miss'], dtype=object)"
      ]
     },
     "execution_count": 8,
     "metadata": {},
     "output_type": "execute_result"
    }
   ],
   "source": [
    "train_data.status.unique()"
   ]
  },
  {
   "cell_type": "code",
   "execution_count": 51,
   "metadata": {},
   "outputs": [
    {
     "data": {
      "text/plain": [
       "(Index(['cor_0', 'cor_1', 'cor_2', 'cor_3', 'cor_4', 'cor_5', 'cor_6', 'cor_7',\n",
       "        'cor_8', 'cor_9', 'cor_10', 'cor_11', 'cor_12', 'cor_13', 'cor_14',\n",
       "        'cor_15', 'cor_16', 'cor_17', 'cor_18', 'cor_19', 'cor_20', 'cor_21',\n",
       "        'cor_22', 'cor_23', 'cor_24', 'status', 'attack_col', 'attack_row',\n",
       "        'prev_attack_col', 'prev_attack_row'],\n",
       "       dtype='object'),\n",
       " Index(['cor_0', 'cor_1', 'cor_2', 'cor_3', 'cor_4', 'cor_5', 'cor_6', 'cor_7',\n",
       "        'cor_8', 'cor_9', 'cor_10', 'cor_11', 'cor_12', 'cor_13', 'cor_14',\n",
       "        'cor_15', 'cor_16', 'cor_17', 'cor_18', 'cor_19', 'cor_20', 'cor_21',\n",
       "        'cor_22', 'cor_23', 'cor_24', 'status', 'attack_col', 'attack_row',\n",
       "        'prev_attack_col', 'prev_attack_row'],\n",
       "       dtype='object'))"
      ]
     },
     "execution_count": 51,
     "metadata": {},
     "output_type": "execute_result"
    }
   ],
   "source": [
    "def split_attack(df, col):\n",
    "    df[col] = df[col].apply(str.lower)\n",
    "    df[f'{col}_col'] = df[col].apply(lambda v: v[0])\n",
    "    df[f'{col}_row'] = df[col].apply(lambda v: v[1])\n",
    "    df = df.drop(columns=[col])\n",
    "    df.head()\n",
    "    return df\n",
    "    \n",
    "train_data = split_attack(train_data, 'attack')\n",
    "train_data = split_attack(train_data, 'prev_attack')\n",
    "test_data = split_attack(test_data, 'attack')\n",
    "test_data = split_attack(test_data, 'prev_attack')\n",
    "train_data.columns, test_data.columns"
   ]
  },
  {
   "cell_type": "code",
   "execution_count": 52,
   "metadata": {},
   "outputs": [
    {
     "data": {
      "text/html": [
       "<div>\n",
       "<style scoped>\n",
       "    .dataframe tbody tr th:only-of-type {\n",
       "        vertical-align: middle;\n",
       "    }\n",
       "\n",
       "    .dataframe tbody tr th {\n",
       "        vertical-align: top;\n",
       "    }\n",
       "\n",
       "    .dataframe thead th {\n",
       "        text-align: right;\n",
       "    }\n",
       "</style>\n",
       "<table border=\"1\" class=\"dataframe\">\n",
       "  <thead>\n",
       "    <tr style=\"text-align: right;\">\n",
       "      <th></th>\n",
       "      <th>cor_0</th>\n",
       "      <th>cor_1</th>\n",
       "      <th>cor_2</th>\n",
       "      <th>cor_3</th>\n",
       "      <th>cor_4</th>\n",
       "      <th>cor_5</th>\n",
       "      <th>cor_6</th>\n",
       "      <th>cor_7</th>\n",
       "      <th>cor_8</th>\n",
       "      <th>cor_9</th>\n",
       "      <th>...</th>\n",
       "      <th>cor_20</th>\n",
       "      <th>cor_21</th>\n",
       "      <th>cor_22</th>\n",
       "      <th>cor_23</th>\n",
       "      <th>cor_24</th>\n",
       "      <th>status</th>\n",
       "      <th>attack_col</th>\n",
       "      <th>attack_row</th>\n",
       "      <th>prev_attack_col</th>\n",
       "      <th>prev_attack_row</th>\n",
       "    </tr>\n",
       "  </thead>\n",
       "  <tbody>\n",
       "    <tr>\n",
       "      <th>2</th>\n",
       "      <td>0</td>\n",
       "      <td>-1</td>\n",
       "      <td>0</td>\n",
       "      <td>0</td>\n",
       "      <td>0</td>\n",
       "      <td>0</td>\n",
       "      <td>0</td>\n",
       "      <td>0</td>\n",
       "      <td>0</td>\n",
       "      <td>0</td>\n",
       "      <td>...</td>\n",
       "      <td>0</td>\n",
       "      <td>0</td>\n",
       "      <td>0</td>\n",
       "      <td>0</td>\n",
       "      <td>0</td>\n",
       "      <td>miss</td>\n",
       "      <td>e</td>\n",
       "      <td>5</td>\n",
       "      <td>c</td>\n",
       "      <td>3</td>\n",
       "    </tr>\n",
       "    <tr>\n",
       "      <th>3</th>\n",
       "      <td>0</td>\n",
       "      <td>-1</td>\n",
       "      <td>0</td>\n",
       "      <td>0</td>\n",
       "      <td>0</td>\n",
       "      <td>0</td>\n",
       "      <td>0</td>\n",
       "      <td>0</td>\n",
       "      <td>0</td>\n",
       "      <td>0</td>\n",
       "      <td>...</td>\n",
       "      <td>0</td>\n",
       "      <td>0</td>\n",
       "      <td>0</td>\n",
       "      <td>0</td>\n",
       "      <td>1</td>\n",
       "      <td>hit</td>\n",
       "      <td>e</td>\n",
       "      <td>4</td>\n",
       "      <td>e</td>\n",
       "      <td>5</td>\n",
       "    </tr>\n",
       "    <tr>\n",
       "      <th>4</th>\n",
       "      <td>0</td>\n",
       "      <td>-1</td>\n",
       "      <td>0</td>\n",
       "      <td>0</td>\n",
       "      <td>0</td>\n",
       "      <td>0</td>\n",
       "      <td>0</td>\n",
       "      <td>0</td>\n",
       "      <td>0</td>\n",
       "      <td>0</td>\n",
       "      <td>...</td>\n",
       "      <td>0</td>\n",
       "      <td>0</td>\n",
       "      <td>0</td>\n",
       "      <td>0</td>\n",
       "      <td>1</td>\n",
       "      <td>hit</td>\n",
       "      <td>e</td>\n",
       "      <td>3</td>\n",
       "      <td>e</td>\n",
       "      <td>4</td>\n",
       "    </tr>\n",
       "    <tr>\n",
       "      <th>5</th>\n",
       "      <td>0</td>\n",
       "      <td>-1</td>\n",
       "      <td>0</td>\n",
       "      <td>0</td>\n",
       "      <td>0</td>\n",
       "      <td>0</td>\n",
       "      <td>0</td>\n",
       "      <td>0</td>\n",
       "      <td>0</td>\n",
       "      <td>0</td>\n",
       "      <td>...</td>\n",
       "      <td>0</td>\n",
       "      <td>0</td>\n",
       "      <td>0</td>\n",
       "      <td>0</td>\n",
       "      <td>1</td>\n",
       "      <td>shipsunk</td>\n",
       "      <td>a</td>\n",
       "      <td>5</td>\n",
       "      <td>e</td>\n",
       "      <td>3</td>\n",
       "    </tr>\n",
       "    <tr>\n",
       "      <th>6</th>\n",
       "      <td>0</td>\n",
       "      <td>-1</td>\n",
       "      <td>0</td>\n",
       "      <td>0</td>\n",
       "      <td>0</td>\n",
       "      <td>0</td>\n",
       "      <td>0</td>\n",
       "      <td>0</td>\n",
       "      <td>0</td>\n",
       "      <td>0</td>\n",
       "      <td>...</td>\n",
       "      <td>-1</td>\n",
       "      <td>0</td>\n",
       "      <td>0</td>\n",
       "      <td>0</td>\n",
       "      <td>1</td>\n",
       "      <td>miss</td>\n",
       "      <td>d</td>\n",
       "      <td>1</td>\n",
       "      <td>a</td>\n",
       "      <td>5</td>\n",
       "    </tr>\n",
       "  </tbody>\n",
       "</table>\n",
       "<p>5 rows × 30 columns</p>\n",
       "</div>"
      ],
      "text/plain": [
       "   cor_0  cor_1  cor_2  cor_3  cor_4  cor_5  cor_6  cor_7  cor_8  cor_9  ...  \\\n",
       "2      0     -1      0      0      0      0      0      0      0      0  ...   \n",
       "3      0     -1      0      0      0      0      0      0      0      0  ...   \n",
       "4      0     -1      0      0      0      0      0      0      0      0  ...   \n",
       "5      0     -1      0      0      0      0      0      0      0      0  ...   \n",
       "6      0     -1      0      0      0      0      0      0      0      0  ...   \n",
       "\n",
       "   cor_20  cor_21  cor_22  cor_23  cor_24    status  attack_col  attack_row  \\\n",
       "2       0       0       0       0       0      miss           e           5   \n",
       "3       0       0       0       0       1       hit           e           4   \n",
       "4       0       0       0       0       1       hit           e           3   \n",
       "5       0       0       0       0       1  shipsunk           a           5   \n",
       "6      -1       0       0       0       1      miss           d           1   \n",
       "\n",
       "   prev_attack_col  prev_attack_row  \n",
       "2                c                3  \n",
       "3                e                5  \n",
       "4                e                4  \n",
       "5                e                3  \n",
       "6                a                5  \n",
       "\n",
       "[5 rows x 30 columns]"
      ]
     },
     "execution_count": 52,
     "metadata": {},
     "output_type": "execute_result"
    }
   ],
   "source": [
    "# train_data.columns[train_data.columns.str.match('cor_|status|prev_attack_col')]\n",
    "train_data.head()"
   ]
  },
  {
   "cell_type": "markdown",
   "metadata": {},
   "source": [
    "# Data preparation for col classifier"
   ]
  },
  {
   "cell_type": "code",
   "execution_count": 54,
   "metadata": {},
   "outputs": [
    {
     "data": {
      "text/plain": [
       "(    cor_0  cor_1  cor_2  cor_3  cor_4  cor_5  cor_6  cor_7  cor_8  cor_9  ...  \\\n",
       " 2       0     -1      0      0      0      0      0      0      0      0  ...   \n",
       " 3       0     -1      0      0      0      0      0      0      0      0  ...   \n",
       " 4       0     -1      0      0      0      0      0      0      0      0  ...   \n",
       " 5       0     -1      0      0      0      0      0      0      0      0  ...   \n",
       " 6       0     -1      0      0      0      0      0      0      0      0  ...   \n",
       " 7       0     -1      0     -1      0      0      0      0      0      0  ...   \n",
       " 8       0     -1      0     -1      0      0      0      0      0      0  ...   \n",
       " 9       0     -1      0     -1      0      0      0      1      0      0  ...   \n",
       " 10      0     -1      0     -1      0      0      0      1      1      0  ...   \n",
       " 11      0     -1      0     -1      0      0      1      1      1      0  ...   \n",
       " \n",
       "     cor_18  cor_19  cor_20  cor_21  cor_22  cor_23  cor_24    status  \\\n",
       " 2        0       0       0       0       0       0       0      miss   \n",
       " 3        0       0       0       0       0       0       1       hit   \n",
       " 4        0       1       0       0       0       0       1       hit   \n",
       " 5        0       1       0       0       0       0       1  shipsunk   \n",
       " 6        0       1      -1       0       0       0       1      miss   \n",
       " 7        0       1      -1       0       0       0       1      miss   \n",
       " 8        0       1      -1       0       0       0       1      miss   \n",
       " 9        0       1      -1       0       0       0       1       hit   \n",
       " 10       0       1      -1       0       0       0       1       hit   \n",
       " 11       0       1      -1       0       0       0       1       hit   \n",
       " \n",
       "     prev_attack_col  prev_attack_row  \n",
       " 2                 c                3  \n",
       " 3                 e                5  \n",
       " 4                 e                4  \n",
       " 5                 e                3  \n",
       " 6                 a                5  \n",
       " 7                 d                1  \n",
       " 8                 c                3  \n",
       " 9                 c                2  \n",
       " 10                d                2  \n",
       " 11                b                2  \n",
       " \n",
       " [10 rows x 28 columns],   attack_col\n",
       " 2          e\n",
       " 3          e)"
      ]
     },
     "execution_count": 54,
     "metadata": {},
     "output_type": "execute_result"
    }
   ],
   "source": [
    "X_train = train_data.loc[:, train_data.columns.str.match('^cor_|^status|^prev_attack_')]\n",
    "y_train = train_data.loc[:, train_data.columns.str.startswith('attack_col')]\n",
    "X_train.head(10), y_train.head(2)"
   ]
  },
  {
   "cell_type": "code",
   "execution_count": 56,
   "metadata": {},
   "outputs": [
    {
     "data": {
      "text/plain": [
       "(   cor_0  cor_1  cor_2  cor_3  cor_4  cor_5  cor_6  cor_7  cor_8  cor_9  ...  \\\n",
       " 2      0      0      0      0      0      0      0      0      0      0  ...   \n",
       " 3      0      0      0      0      0      0      0      0      0      0  ...   \n",
       " \n",
       "    cor_18  cor_19  cor_20  cor_21  cor_22  cor_23  cor_24  status  \\\n",
       " 2       0       0      -1       0       0       0       0    miss   \n",
       " 3       0       0      -1       0       0       0       0    miss   \n",
       " \n",
       "    prev_attack_col  prev_attack_row  \n",
       " 2                b                4  \n",
       " 3                c                3  \n",
       " \n",
       " [2 rows x 28 columns],   attack_col\n",
       " 2          c\n",
       " 3          d)"
      ]
     },
     "execution_count": 56,
     "metadata": {},
     "output_type": "execute_result"
    }
   ],
   "source": [
    "X_test = test_data.loc[:, test_data.columns.str.match('^cor_|^status|^prev_attack_')]\n",
    "y_test = test_data.loc[:, test_data.columns.str.startswith('attack_col')]\n",
    "X_test.head(2), y_test.head(2)"
   ]
  },
  {
   "cell_type": "code",
   "execution_count": 57,
   "metadata": {},
   "outputs": [],
   "source": [
    "X_train = pd.get_dummies(X_train, columns=['status','prev_attack_col','prev_attack_row'])\n",
    "X_test  = pd.get_dummies(X_test, columns=['status','prev_attack_col','prev_attack_row'])"
   ]
  },
  {
   "cell_type": "code",
   "execution_count": 58,
   "metadata": {},
   "outputs": [
    {
     "data": {
      "text/plain": [
       "Index(['cor_0', 'cor_1', 'cor_2', 'cor_3', 'cor_4', 'cor_5', 'cor_6', 'cor_7',\n",
       "       'cor_8', 'cor_9', 'cor_10', 'cor_11', 'cor_12', 'cor_13', 'cor_14',\n",
       "       'cor_15', 'cor_16', 'cor_17', 'cor_18', 'cor_19', 'cor_20', 'cor_21',\n",
       "       'cor_22', 'cor_23', 'cor_24', 'status_hit', 'status_miss',\n",
       "       'status_shipsunk', 'prev_attack_col_a', 'prev_attack_col_b',\n",
       "       'prev_attack_col_c', 'prev_attack_col_d', 'prev_attack_col_e',\n",
       "       'prev_attack_row_1', 'prev_attack_row_2', 'prev_attack_row_3',\n",
       "       'prev_attack_row_4', 'prev_attack_row_5'],\n",
       "      dtype='object')"
      ]
     },
     "execution_count": 58,
     "metadata": {},
     "output_type": "execute_result"
    }
   ],
   "source": [
    "X_train.columns"
   ]
  },
  {
   "cell_type": "code",
   "execution_count": 59,
   "metadata": {},
   "outputs": [
    {
     "data": {
      "text/html": [
       "<div>\n",
       "<style scoped>\n",
       "    .dataframe tbody tr th:only-of-type {\n",
       "        vertical-align: middle;\n",
       "    }\n",
       "\n",
       "    .dataframe tbody tr th {\n",
       "        vertical-align: top;\n",
       "    }\n",
       "\n",
       "    .dataframe thead th {\n",
       "        text-align: right;\n",
       "    }\n",
       "</style>\n",
       "<table border=\"1\" class=\"dataframe\">\n",
       "  <thead>\n",
       "    <tr style=\"text-align: right;\">\n",
       "      <th></th>\n",
       "      <th>attack_col</th>\n",
       "    </tr>\n",
       "  </thead>\n",
       "  <tbody>\n",
       "    <tr>\n",
       "      <th>2</th>\n",
       "      <td>e</td>\n",
       "    </tr>\n",
       "    <tr>\n",
       "      <th>3</th>\n",
       "      <td>e</td>\n",
       "    </tr>\n",
       "    <tr>\n",
       "      <th>4</th>\n",
       "      <td>e</td>\n",
       "    </tr>\n",
       "    <tr>\n",
       "      <th>5</th>\n",
       "      <td>a</td>\n",
       "    </tr>\n",
       "    <tr>\n",
       "      <th>6</th>\n",
       "      <td>d</td>\n",
       "    </tr>\n",
       "  </tbody>\n",
       "</table>\n",
       "</div>"
      ],
      "text/plain": [
       "  attack_col\n",
       "2          e\n",
       "3          e\n",
       "4          e\n",
       "5          a\n",
       "6          d"
      ]
     },
     "execution_count": 59,
     "metadata": {},
     "output_type": "execute_result"
    }
   ],
   "source": [
    "y_train.head()"
   ]
  },
  {
   "cell_type": "code",
   "execution_count": 60,
   "metadata": {},
   "outputs": [
    {
     "data": {
      "text/plain": [
       "((419, 38), (419, 1))"
      ]
     },
     "execution_count": 60,
     "metadata": {},
     "output_type": "execute_result"
    }
   ],
   "source": [
    "X_train.to_csv('dataset_X_train.csv', index_label='index')\n",
    "y_train.to_csv('dataset_y_train.csv', index_label='index')\n",
    "X_train.shape, y_train.shape"
   ]
  },
  {
   "cell_type": "code",
   "execution_count": 61,
   "metadata": {},
   "outputs": [
    {
     "data": {
      "text/html": [
       "<div>\n",
       "<style scoped>\n",
       "    .dataframe tbody tr th:only-of-type {\n",
       "        vertical-align: middle;\n",
       "    }\n",
       "\n",
       "    .dataframe tbody tr th {\n",
       "        vertical-align: top;\n",
       "    }\n",
       "\n",
       "    .dataframe thead th {\n",
       "        text-align: right;\n",
       "    }\n",
       "</style>\n",
       "<table border=\"1\" class=\"dataframe\">\n",
       "  <thead>\n",
       "    <tr style=\"text-align: right;\">\n",
       "      <th></th>\n",
       "      <th>cor_0</th>\n",
       "      <th>cor_1</th>\n",
       "      <th>cor_2</th>\n",
       "      <th>cor_3</th>\n",
       "      <th>cor_4</th>\n",
       "      <th>cor_5</th>\n",
       "      <th>cor_6</th>\n",
       "      <th>cor_7</th>\n",
       "      <th>cor_8</th>\n",
       "      <th>cor_9</th>\n",
       "      <th>...</th>\n",
       "      <th>prev_attack_col_a</th>\n",
       "      <th>prev_attack_col_b</th>\n",
       "      <th>prev_attack_col_c</th>\n",
       "      <th>prev_attack_col_d</th>\n",
       "      <th>prev_attack_col_e</th>\n",
       "      <th>prev_attack_row_1</th>\n",
       "      <th>prev_attack_row_2</th>\n",
       "      <th>prev_attack_row_3</th>\n",
       "      <th>prev_attack_row_4</th>\n",
       "      <th>prev_attack_row_5</th>\n",
       "    </tr>\n",
       "  </thead>\n",
       "  <tbody>\n",
       "    <tr>\n",
       "      <th>2</th>\n",
       "      <td>0</td>\n",
       "      <td>0</td>\n",
       "      <td>0</td>\n",
       "      <td>0</td>\n",
       "      <td>0</td>\n",
       "      <td>0</td>\n",
       "      <td>0</td>\n",
       "      <td>0</td>\n",
       "      <td>0</td>\n",
       "      <td>0</td>\n",
       "      <td>...</td>\n",
       "      <td>0</td>\n",
       "      <td>1</td>\n",
       "      <td>0</td>\n",
       "      <td>0</td>\n",
       "      <td>0</td>\n",
       "      <td>0</td>\n",
       "      <td>0</td>\n",
       "      <td>0</td>\n",
       "      <td>1</td>\n",
       "      <td>0</td>\n",
       "    </tr>\n",
       "    <tr>\n",
       "      <th>3</th>\n",
       "      <td>0</td>\n",
       "      <td>0</td>\n",
       "      <td>0</td>\n",
       "      <td>0</td>\n",
       "      <td>0</td>\n",
       "      <td>0</td>\n",
       "      <td>0</td>\n",
       "      <td>0</td>\n",
       "      <td>0</td>\n",
       "      <td>0</td>\n",
       "      <td>...</td>\n",
       "      <td>0</td>\n",
       "      <td>0</td>\n",
       "      <td>1</td>\n",
       "      <td>0</td>\n",
       "      <td>0</td>\n",
       "      <td>0</td>\n",
       "      <td>0</td>\n",
       "      <td>1</td>\n",
       "      <td>0</td>\n",
       "      <td>0</td>\n",
       "    </tr>\n",
       "    <tr>\n",
       "      <th>4</th>\n",
       "      <td>0</td>\n",
       "      <td>0</td>\n",
       "      <td>0</td>\n",
       "      <td>0</td>\n",
       "      <td>0</td>\n",
       "      <td>0</td>\n",
       "      <td>0</td>\n",
       "      <td>0</td>\n",
       "      <td>0</td>\n",
       "      <td>0</td>\n",
       "      <td>...</td>\n",
       "      <td>0</td>\n",
       "      <td>0</td>\n",
       "      <td>0</td>\n",
       "      <td>1</td>\n",
       "      <td>0</td>\n",
       "      <td>0</td>\n",
       "      <td>0</td>\n",
       "      <td>1</td>\n",
       "      <td>0</td>\n",
       "      <td>0</td>\n",
       "    </tr>\n",
       "    <tr>\n",
       "      <th>5</th>\n",
       "      <td>0</td>\n",
       "      <td>0</td>\n",
       "      <td>0</td>\n",
       "      <td>0</td>\n",
       "      <td>0</td>\n",
       "      <td>1</td>\n",
       "      <td>0</td>\n",
       "      <td>0</td>\n",
       "      <td>0</td>\n",
       "      <td>0</td>\n",
       "      <td>...</td>\n",
       "      <td>1</td>\n",
       "      <td>0</td>\n",
       "      <td>0</td>\n",
       "      <td>0</td>\n",
       "      <td>0</td>\n",
       "      <td>0</td>\n",
       "      <td>1</td>\n",
       "      <td>0</td>\n",
       "      <td>0</td>\n",
       "      <td>0</td>\n",
       "    </tr>\n",
       "    <tr>\n",
       "      <th>6</th>\n",
       "      <td>0</td>\n",
       "      <td>0</td>\n",
       "      <td>0</td>\n",
       "      <td>0</td>\n",
       "      <td>0</td>\n",
       "      <td>1</td>\n",
       "      <td>0</td>\n",
       "      <td>0</td>\n",
       "      <td>1</td>\n",
       "      <td>0</td>\n",
       "      <td>...</td>\n",
       "      <td>0</td>\n",
       "      <td>0</td>\n",
       "      <td>0</td>\n",
       "      <td>1</td>\n",
       "      <td>0</td>\n",
       "      <td>0</td>\n",
       "      <td>1</td>\n",
       "      <td>0</td>\n",
       "      <td>0</td>\n",
       "      <td>0</td>\n",
       "    </tr>\n",
       "  </tbody>\n",
       "</table>\n",
       "<p>5 rows × 38 columns</p>\n",
       "</div>"
      ],
      "text/plain": [
       "   cor_0  cor_1  cor_2  cor_3  cor_4  cor_5  cor_6  cor_7  cor_8  cor_9  ...  \\\n",
       "2      0      0      0      0      0      0      0      0      0      0  ...   \n",
       "3      0      0      0      0      0      0      0      0      0      0  ...   \n",
       "4      0      0      0      0      0      0      0      0      0      0  ...   \n",
       "5      0      0      0      0      0      1      0      0      0      0  ...   \n",
       "6      0      0      0      0      0      1      0      0      1      0  ...   \n",
       "\n",
       "   prev_attack_col_a  prev_attack_col_b  prev_attack_col_c  prev_attack_col_d  \\\n",
       "2                  0                  1                  0                  0   \n",
       "3                  0                  0                  1                  0   \n",
       "4                  0                  0                  0                  1   \n",
       "5                  1                  0                  0                  0   \n",
       "6                  0                  0                  0                  1   \n",
       "\n",
       "   prev_attack_col_e  prev_attack_row_1  prev_attack_row_2  prev_attack_row_3  \\\n",
       "2                  0                  0                  0                  0   \n",
       "3                  0                  0                  0                  1   \n",
       "4                  0                  0                  0                  1   \n",
       "5                  0                  0                  1                  0   \n",
       "6                  0                  0                  1                  0   \n",
       "\n",
       "   prev_attack_row_4  prev_attack_row_5  \n",
       "2                  1                  0  \n",
       "3                  0                  0  \n",
       "4                  0                  0  \n",
       "5                  0                  0  \n",
       "6                  0                  0  \n",
       "\n",
       "[5 rows x 38 columns]"
      ]
     },
     "execution_count": 61,
     "metadata": {},
     "output_type": "execute_result"
    }
   ],
   "source": [
    "X_test.head()"
   ]
  },
  {
   "cell_type": "code",
   "execution_count": 62,
   "metadata": {},
   "outputs": [
    {
     "data": {
      "text/html": [
       "<div>\n",
       "<style scoped>\n",
       "    .dataframe tbody tr th:only-of-type {\n",
       "        vertical-align: middle;\n",
       "    }\n",
       "\n",
       "    .dataframe tbody tr th {\n",
       "        vertical-align: top;\n",
       "    }\n",
       "\n",
       "    .dataframe thead th {\n",
       "        text-align: right;\n",
       "    }\n",
       "</style>\n",
       "<table border=\"1\" class=\"dataframe\">\n",
       "  <thead>\n",
       "    <tr style=\"text-align: right;\">\n",
       "      <th></th>\n",
       "      <th>attack_col</th>\n",
       "    </tr>\n",
       "  </thead>\n",
       "  <tbody>\n",
       "    <tr>\n",
       "      <th>2</th>\n",
       "      <td>c</td>\n",
       "    </tr>\n",
       "    <tr>\n",
       "      <th>3</th>\n",
       "      <td>d</td>\n",
       "    </tr>\n",
       "    <tr>\n",
       "      <th>4</th>\n",
       "      <td>a</td>\n",
       "    </tr>\n",
       "    <tr>\n",
       "      <th>5</th>\n",
       "      <td>d</td>\n",
       "    </tr>\n",
       "    <tr>\n",
       "      <th>6</th>\n",
       "      <td>e</td>\n",
       "    </tr>\n",
       "  </tbody>\n",
       "</table>\n",
       "</div>"
      ],
      "text/plain": [
       "  attack_col\n",
       "2          c\n",
       "3          d\n",
       "4          a\n",
       "5          d\n",
       "6          e"
      ]
     },
     "execution_count": 62,
     "metadata": {},
     "output_type": "execute_result"
    }
   ],
   "source": [
    "y_test.head()"
   ]
  },
  {
   "cell_type": "code",
   "execution_count": 63,
   "metadata": {},
   "outputs": [
    {
     "data": {
      "text/plain": [
       "((99, 38), (99, 1))"
      ]
     },
     "execution_count": 63,
     "metadata": {},
     "output_type": "execute_result"
    }
   ],
   "source": [
    "X_test.to_csv('dataset_X_test.csv', index_label='index')\n",
    "y_test.to_csv('dataset_y_test.csv', index_label='index')\n",
    "X_test.shape, y_test.shape"
   ]
  },
  {
   "cell_type": "markdown",
   "metadata": {},
   "source": [
    "# Data preparation for row classifier"
   ]
  },
  {
   "cell_type": "code",
   "execution_count": 64,
   "metadata": {},
   "outputs": [
    {
     "data": {
      "text/plain": [
       "((419, 30), (99, 30))"
      ]
     },
     "execution_count": 64,
     "metadata": {},
     "output_type": "execute_result"
    }
   ],
   "source": [
    "train_data.shape, test_data.shape"
   ]
  },
  {
   "cell_type": "code",
   "execution_count": 65,
   "metadata": {},
   "outputs": [
    {
     "data": {
      "text/plain": [
       "(Index(['cor_0', 'cor_1', 'cor_2', 'cor_3', 'cor_4', 'cor_5', 'cor_6', 'cor_7',\n",
       "        'cor_8', 'cor_9', 'cor_10', 'cor_11', 'cor_12', 'cor_13', 'cor_14',\n",
       "        'cor_15', 'cor_16', 'cor_17', 'cor_18', 'cor_19', 'cor_20', 'cor_21',\n",
       "        'cor_22', 'cor_23', 'cor_24', 'status', 'attack_col', 'attack_row',\n",
       "        'prev_attack_col', 'prev_attack_row'],\n",
       "       dtype='object'),\n",
       " Index(['cor_0', 'cor_1', 'cor_2', 'cor_3', 'cor_4', 'cor_5', 'cor_6', 'cor_7',\n",
       "        'cor_8', 'cor_9', 'cor_10', 'cor_11', 'cor_12', 'cor_13', 'cor_14',\n",
       "        'cor_15', 'cor_16', 'cor_17', 'cor_18', 'cor_19', 'cor_20', 'cor_21',\n",
       "        'cor_22', 'cor_23', 'cor_24', 'status', 'attack_col', 'attack_row',\n",
       "        'prev_attack_col', 'prev_attack_row'],\n",
       "       dtype='object'))"
      ]
     },
     "execution_count": 65,
     "metadata": {},
     "output_type": "execute_result"
    }
   ],
   "source": [
    "train_data.columns, test_data.columns"
   ]
  },
  {
   "cell_type": "code",
   "execution_count": 66,
   "metadata": {},
   "outputs": [
    {
     "data": {
      "text/plain": [
       "((419, 29), (99, 29), (419, 1), (99, 1))"
      ]
     },
     "execution_count": 66,
     "metadata": {},
     "output_type": "execute_result"
    }
   ],
   "source": [
    "X_train_row = train_data.loc[:,train_data.columns[train_data.columns.str.match('^cor_|^status|^prev_attack_|^attack_col')]]\n",
    "y_train_row = train_data.loc[:, ['attack_row']]\n",
    "X_test_row = test_data.loc[:,test_data.columns[test_data.columns.str.match('^cor_|^status|^prev_attack_|^attack_col')]]\n",
    "y_test_row = test_data.loc[:, ['attack_row']]\n",
    "X_train_row.shape, X_test_row.shape, y_train_row.shape, y_test_row.shape"
   ]
  },
  {
   "cell_type": "code",
   "execution_count": 67,
   "metadata": {},
   "outputs": [],
   "source": [
    "X_train_row = pd.get_dummies(X_train_row, columns=['status', 'prev_attack_col', 'prev_attack_row', 'attack_col'])\n",
    "X_test_row = pd.get_dummies(X_test_row, columns=['status', 'prev_attack_col', 'prev_attack_row', 'attack_col'])"
   ]
  },
  {
   "cell_type": "code",
   "execution_count": 68,
   "metadata": {},
   "outputs": [
    {
     "data": {
      "text/plain": [
       "((419, 43), (419, 1), (99, 43), (99, 1))"
      ]
     },
     "execution_count": 68,
     "metadata": {},
     "output_type": "execute_result"
    }
   ],
   "source": [
    "X_train_row.to_csv('dataset_X_train_row.csv', index_label='index')\n",
    "y_train_row.to_csv('dataset_y_train_row.csv', index_label='index')\n",
    "X_test_row.to_csv('dataset_X_test_row.csv', index_label='index')\n",
    "y_test_row.to_csv('dataset_y_test_row.csv', index_label='index')\n",
    "X_train_row.shape, y_train_row.shape, X_test_row.shape, y_test_row.shape"
   ]
  },
  {
   "cell_type": "code",
   "execution_count": 69,
   "metadata": {},
   "outputs": [
    {
     "data": {
      "text/html": [
       "<div>\n",
       "<style scoped>\n",
       "    .dataframe tbody tr th:only-of-type {\n",
       "        vertical-align: middle;\n",
       "    }\n",
       "\n",
       "    .dataframe tbody tr th {\n",
       "        vertical-align: top;\n",
       "    }\n",
       "\n",
       "    .dataframe thead th {\n",
       "        text-align: right;\n",
       "    }\n",
       "</style>\n",
       "<table border=\"1\" class=\"dataframe\">\n",
       "  <thead>\n",
       "    <tr style=\"text-align: right;\">\n",
       "      <th></th>\n",
       "      <th>cor_0</th>\n",
       "      <th>cor_1</th>\n",
       "      <th>cor_2</th>\n",
       "      <th>cor_3</th>\n",
       "      <th>cor_4</th>\n",
       "      <th>cor_5</th>\n",
       "      <th>cor_6</th>\n",
       "      <th>cor_7</th>\n",
       "      <th>cor_8</th>\n",
       "      <th>cor_9</th>\n",
       "      <th>...</th>\n",
       "      <th>prev_attack_row_1</th>\n",
       "      <th>prev_attack_row_2</th>\n",
       "      <th>prev_attack_row_3</th>\n",
       "      <th>prev_attack_row_4</th>\n",
       "      <th>prev_attack_row_5</th>\n",
       "      <th>attack_col_a</th>\n",
       "      <th>attack_col_b</th>\n",
       "      <th>attack_col_c</th>\n",
       "      <th>attack_col_d</th>\n",
       "      <th>attack_col_e</th>\n",
       "    </tr>\n",
       "  </thead>\n",
       "  <tbody>\n",
       "    <tr>\n",
       "      <th>2</th>\n",
       "      <td>0</td>\n",
       "      <td>-1</td>\n",
       "      <td>0</td>\n",
       "      <td>0</td>\n",
       "      <td>0</td>\n",
       "      <td>0</td>\n",
       "      <td>0</td>\n",
       "      <td>0</td>\n",
       "      <td>0</td>\n",
       "      <td>0</td>\n",
       "      <td>...</td>\n",
       "      <td>0</td>\n",
       "      <td>0</td>\n",
       "      <td>1</td>\n",
       "      <td>0</td>\n",
       "      <td>0</td>\n",
       "      <td>0</td>\n",
       "      <td>0</td>\n",
       "      <td>0</td>\n",
       "      <td>0</td>\n",
       "      <td>1</td>\n",
       "    </tr>\n",
       "    <tr>\n",
       "      <th>3</th>\n",
       "      <td>0</td>\n",
       "      <td>-1</td>\n",
       "      <td>0</td>\n",
       "      <td>0</td>\n",
       "      <td>0</td>\n",
       "      <td>0</td>\n",
       "      <td>0</td>\n",
       "      <td>0</td>\n",
       "      <td>0</td>\n",
       "      <td>0</td>\n",
       "      <td>...</td>\n",
       "      <td>0</td>\n",
       "      <td>0</td>\n",
       "      <td>0</td>\n",
       "      <td>0</td>\n",
       "      <td>1</td>\n",
       "      <td>0</td>\n",
       "      <td>0</td>\n",
       "      <td>0</td>\n",
       "      <td>0</td>\n",
       "      <td>1</td>\n",
       "    </tr>\n",
       "    <tr>\n",
       "      <th>4</th>\n",
       "      <td>0</td>\n",
       "      <td>-1</td>\n",
       "      <td>0</td>\n",
       "      <td>0</td>\n",
       "      <td>0</td>\n",
       "      <td>0</td>\n",
       "      <td>0</td>\n",
       "      <td>0</td>\n",
       "      <td>0</td>\n",
       "      <td>0</td>\n",
       "      <td>...</td>\n",
       "      <td>0</td>\n",
       "      <td>0</td>\n",
       "      <td>0</td>\n",
       "      <td>1</td>\n",
       "      <td>0</td>\n",
       "      <td>0</td>\n",
       "      <td>0</td>\n",
       "      <td>0</td>\n",
       "      <td>0</td>\n",
       "      <td>1</td>\n",
       "    </tr>\n",
       "    <tr>\n",
       "      <th>5</th>\n",
       "      <td>0</td>\n",
       "      <td>-1</td>\n",
       "      <td>0</td>\n",
       "      <td>0</td>\n",
       "      <td>0</td>\n",
       "      <td>0</td>\n",
       "      <td>0</td>\n",
       "      <td>0</td>\n",
       "      <td>0</td>\n",
       "      <td>0</td>\n",
       "      <td>...</td>\n",
       "      <td>0</td>\n",
       "      <td>0</td>\n",
       "      <td>1</td>\n",
       "      <td>0</td>\n",
       "      <td>0</td>\n",
       "      <td>1</td>\n",
       "      <td>0</td>\n",
       "      <td>0</td>\n",
       "      <td>0</td>\n",
       "      <td>0</td>\n",
       "    </tr>\n",
       "    <tr>\n",
       "      <th>6</th>\n",
       "      <td>0</td>\n",
       "      <td>-1</td>\n",
       "      <td>0</td>\n",
       "      <td>0</td>\n",
       "      <td>0</td>\n",
       "      <td>0</td>\n",
       "      <td>0</td>\n",
       "      <td>0</td>\n",
       "      <td>0</td>\n",
       "      <td>0</td>\n",
       "      <td>...</td>\n",
       "      <td>0</td>\n",
       "      <td>0</td>\n",
       "      <td>0</td>\n",
       "      <td>0</td>\n",
       "      <td>1</td>\n",
       "      <td>0</td>\n",
       "      <td>0</td>\n",
       "      <td>0</td>\n",
       "      <td>1</td>\n",
       "      <td>0</td>\n",
       "    </tr>\n",
       "  </tbody>\n",
       "</table>\n",
       "<p>5 rows × 43 columns</p>\n",
       "</div>"
      ],
      "text/plain": [
       "   cor_0  cor_1  cor_2  cor_3  cor_4  cor_5  cor_6  cor_7  cor_8  cor_9  ...  \\\n",
       "2      0     -1      0      0      0      0      0      0      0      0  ...   \n",
       "3      0     -1      0      0      0      0      0      0      0      0  ...   \n",
       "4      0     -1      0      0      0      0      0      0      0      0  ...   \n",
       "5      0     -1      0      0      0      0      0      0      0      0  ...   \n",
       "6      0     -1      0      0      0      0      0      0      0      0  ...   \n",
       "\n",
       "   prev_attack_row_1  prev_attack_row_2  prev_attack_row_3  prev_attack_row_4  \\\n",
       "2                  0                  0                  1                  0   \n",
       "3                  0                  0                  0                  0   \n",
       "4                  0                  0                  0                  1   \n",
       "5                  0                  0                  1                  0   \n",
       "6                  0                  0                  0                  0   \n",
       "\n",
       "   prev_attack_row_5  attack_col_a  attack_col_b  attack_col_c  attack_col_d  \\\n",
       "2                  0             0             0             0             0   \n",
       "3                  1             0             0             0             0   \n",
       "4                  0             0             0             0             0   \n",
       "5                  0             1             0             0             0   \n",
       "6                  1             0             0             0             1   \n",
       "\n",
       "   attack_col_e  \n",
       "2             1  \n",
       "3             1  \n",
       "4             1  \n",
       "5             0  \n",
       "6             0  \n",
       "\n",
       "[5 rows x 43 columns]"
      ]
     },
     "execution_count": 69,
     "metadata": {},
     "output_type": "execute_result"
    }
   ],
   "source": [
    "X_train_row.head()"
   ]
  },
  {
   "cell_type": "code",
   "execution_count": 70,
   "metadata": {},
   "outputs": [
    {
     "data": {
      "text/html": [
       "<div>\n",
       "<style scoped>\n",
       "    .dataframe tbody tr th:only-of-type {\n",
       "        vertical-align: middle;\n",
       "    }\n",
       "\n",
       "    .dataframe tbody tr th {\n",
       "        vertical-align: top;\n",
       "    }\n",
       "\n",
       "    .dataframe thead th {\n",
       "        text-align: right;\n",
       "    }\n",
       "</style>\n",
       "<table border=\"1\" class=\"dataframe\">\n",
       "  <thead>\n",
       "    <tr style=\"text-align: right;\">\n",
       "      <th></th>\n",
       "      <th>attack_row</th>\n",
       "    </tr>\n",
       "  </thead>\n",
       "  <tbody>\n",
       "    <tr>\n",
       "      <th>2</th>\n",
       "      <td>5</td>\n",
       "    </tr>\n",
       "    <tr>\n",
       "      <th>3</th>\n",
       "      <td>4</td>\n",
       "    </tr>\n",
       "    <tr>\n",
       "      <th>4</th>\n",
       "      <td>3</td>\n",
       "    </tr>\n",
       "    <tr>\n",
       "      <th>5</th>\n",
       "      <td>5</td>\n",
       "    </tr>\n",
       "    <tr>\n",
       "      <th>6</th>\n",
       "      <td>1</td>\n",
       "    </tr>\n",
       "  </tbody>\n",
       "</table>\n",
       "</div>"
      ],
      "text/plain": [
       "  attack_row\n",
       "2          5\n",
       "3          4\n",
       "4          3\n",
       "5          5\n",
       "6          1"
      ]
     },
     "execution_count": 70,
     "metadata": {},
     "output_type": "execute_result"
    }
   ],
   "source": [
    "y_train_row.head()"
   ]
  },
  {
   "cell_type": "code",
   "execution_count": null,
   "metadata": {},
   "outputs": [],
   "source": []
  }
 ],
 "metadata": {
  "kernelspec": {
   "display_name": "Python 3",
   "language": "python",
   "name": "python3"
  },
  "language_info": {
   "codemirror_mode": {
    "name": "ipython",
    "version": 3
   },
   "file_extension": ".py",
   "mimetype": "text/x-python",
   "name": "python",
   "nbconvert_exporter": "python",
   "pygments_lexer": "ipython3",
   "version": "3.6.8"
  }
 },
 "nbformat": 4,
 "nbformat_minor": 2
}
