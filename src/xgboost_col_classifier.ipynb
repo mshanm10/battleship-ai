{
 "cells": [
  {
   "cell_type": "markdown",
   "metadata": {},
   "source": [
    "# Column Classifier\n",
    "### Targeting Grid: 5x5\n",
    "### Ocean Grid 5x5\n",
    "### No of Ships: 3 ships\n",
    "### Input : \n",
    "1. current targeting_grid - 25 features one for each co-ordinate\n",
    "2. prev_attack_co_ordinate (eg: A1)\n",
    "3. prev status (hit,miss,unknown)\n",
    "\n",
    "### Output:\n",
    "1. Predict one of the columns [A,B,C,D,E]\n",
    "\n",
    "### Trained model is saved in a file clf-col-xgboost-{current time}.joblib and used by game.py"
   ]
  },
  {
   "cell_type": "code",
   "execution_count": 1,
   "metadata": {},
   "outputs": [],
   "source": [
    "import pandas as pd\n",
    "import numpy as np\n",
    "import xgboost as xgb\n",
    "from sklearn.model_selection import train_test_split\n",
    "import matplotlib.pyplot as plt\n",
    "import seaborn as sns"
   ]
  },
  {
   "cell_type": "code",
   "execution_count": 2,
   "metadata": {},
   "outputs": [],
   "source": [
    "X_train = pd.read_csv('dataset_X_train.csv', index_col='index')\n",
    "y_train = pd.read_csv('dataset_y_train.csv', index_col='index')\n",
    "X_test = pd.read_csv('dataset_X_test.csv', index_col='index')\n",
    "y_test = pd.read_csv('dataset_y_test.csv', index_col='index')"
   ]
  },
  {
   "cell_type": "code",
   "execution_count": 3,
   "metadata": {},
   "outputs": [
    {
     "name": "stdout",
     "output_type": "stream",
     "text": [
      "<class 'pandas.core.frame.DataFrame'>\n",
      "Int64Index: 419 entries, 2 to 23\n",
      "Data columns (total 38 columns):\n",
      "cor_0                419 non-null int64\n",
      "cor_1                419 non-null int64\n",
      "cor_2                419 non-null int64\n",
      "cor_3                419 non-null int64\n",
      "cor_4                419 non-null int64\n",
      "cor_5                419 non-null int64\n",
      "cor_6                419 non-null int64\n",
      "cor_7                419 non-null int64\n",
      "cor_8                419 non-null int64\n",
      "cor_9                419 non-null int64\n",
      "cor_10               419 non-null int64\n",
      "cor_11               419 non-null int64\n",
      "cor_12               419 non-null int64\n",
      "cor_13               419 non-null int64\n",
      "cor_14               419 non-null int64\n",
      "cor_15               419 non-null int64\n",
      "cor_16               419 non-null int64\n",
      "cor_17               419 non-null int64\n",
      "cor_18               419 non-null int64\n",
      "cor_19               419 non-null int64\n",
      "cor_20               419 non-null int64\n",
      "cor_21               419 non-null int64\n",
      "cor_22               419 non-null int64\n",
      "cor_23               419 non-null int64\n",
      "cor_24               419 non-null int64\n",
      "status_hit           419 non-null int64\n",
      "status_miss          419 non-null int64\n",
      "status_shipsunk      419 non-null int64\n",
      "prev_attack_col_a    419 non-null int64\n",
      "prev_attack_col_b    419 non-null int64\n",
      "prev_attack_col_c    419 non-null int64\n",
      "prev_attack_col_d    419 non-null int64\n",
      "prev_attack_col_e    419 non-null int64\n",
      "prev_attack_row_1    419 non-null int64\n",
      "prev_attack_row_2    419 non-null int64\n",
      "prev_attack_row_3    419 non-null int64\n",
      "prev_attack_row_4    419 non-null int64\n",
      "prev_attack_row_5    419 non-null int64\n",
      "dtypes: int64(38)\n",
      "memory usage: 127.7 KB\n",
      "<class 'pandas.core.frame.DataFrame'>\n",
      "Int64Index: 419 entries, 2 to 23\n",
      "Data columns (total 1 columns):\n",
      "attack_col    419 non-null object\n",
      "dtypes: object(1)\n",
      "memory usage: 6.5+ KB\n",
      "<class 'pandas.core.frame.DataFrame'>\n",
      "Int64Index: 99 entries, 2 to 17\n",
      "Data columns (total 38 columns):\n",
      "cor_0                99 non-null int64\n",
      "cor_1                99 non-null int64\n",
      "cor_2                99 non-null int64\n",
      "cor_3                99 non-null int64\n",
      "cor_4                99 non-null int64\n",
      "cor_5                99 non-null int64\n",
      "cor_6                99 non-null int64\n",
      "cor_7                99 non-null int64\n",
      "cor_8                99 non-null int64\n",
      "cor_9                99 non-null int64\n",
      "cor_10               99 non-null int64\n",
      "cor_11               99 non-null int64\n",
      "cor_12               99 non-null int64\n",
      "cor_13               99 non-null int64\n",
      "cor_14               99 non-null int64\n",
      "cor_15               99 non-null int64\n",
      "cor_16               99 non-null int64\n",
      "cor_17               99 non-null int64\n",
      "cor_18               99 non-null int64\n",
      "cor_19               99 non-null int64\n",
      "cor_20               99 non-null int64\n",
      "cor_21               99 non-null int64\n",
      "cor_22               99 non-null int64\n",
      "cor_23               99 non-null int64\n",
      "cor_24               99 non-null int64\n",
      "status_hit           99 non-null int64\n",
      "status_miss          99 non-null int64\n",
      "status_shipsunk      99 non-null int64\n",
      "prev_attack_col_a    99 non-null int64\n",
      "prev_attack_col_b    99 non-null int64\n",
      "prev_attack_col_c    99 non-null int64\n",
      "prev_attack_col_d    99 non-null int64\n",
      "prev_attack_col_e    99 non-null int64\n",
      "prev_attack_row_1    99 non-null int64\n",
      "prev_attack_row_2    99 non-null int64\n",
      "prev_attack_row_3    99 non-null int64\n",
      "prev_attack_row_4    99 non-null int64\n",
      "prev_attack_row_5    99 non-null int64\n",
      "dtypes: int64(38)\n",
      "memory usage: 30.2 KB\n",
      "<class 'pandas.core.frame.DataFrame'>\n",
      "Int64Index: 99 entries, 2 to 17\n",
      "Data columns (total 1 columns):\n",
      "attack_col    99 non-null object\n",
      "dtypes: object(1)\n",
      "memory usage: 1.5+ KB\n"
     ]
    },
    {
     "data": {
      "text/plain": [
       "(None, None, None, None)"
      ]
     },
     "execution_count": 3,
     "metadata": {},
     "output_type": "execute_result"
    }
   ],
   "source": [
    "X_train.info(), y_train.info(), X_test.info(), y_test.info()"
   ]
  },
  {
   "cell_type": "code",
   "execution_count": 4,
   "metadata": {},
   "outputs": [
    {
     "data": {
      "text/html": [
       "<div>\n",
       "<style scoped>\n",
       "    .dataframe tbody tr th:only-of-type {\n",
       "        vertical-align: middle;\n",
       "    }\n",
       "\n",
       "    .dataframe tbody tr th {\n",
       "        vertical-align: top;\n",
       "    }\n",
       "\n",
       "    .dataframe thead th {\n",
       "        text-align: right;\n",
       "    }\n",
       "</style>\n",
       "<table border=\"1\" class=\"dataframe\">\n",
       "  <thead>\n",
       "    <tr style=\"text-align: right;\">\n",
       "      <th></th>\n",
       "      <th>cor_0</th>\n",
       "      <th>cor_1</th>\n",
       "      <th>cor_2</th>\n",
       "      <th>cor_3</th>\n",
       "      <th>cor_4</th>\n",
       "      <th>cor_5</th>\n",
       "      <th>cor_6</th>\n",
       "      <th>cor_7</th>\n",
       "      <th>cor_8</th>\n",
       "      <th>cor_9</th>\n",
       "      <th>...</th>\n",
       "      <th>prev_attack_col_a</th>\n",
       "      <th>prev_attack_col_b</th>\n",
       "      <th>prev_attack_col_c</th>\n",
       "      <th>prev_attack_col_d</th>\n",
       "      <th>prev_attack_col_e</th>\n",
       "      <th>prev_attack_row_1</th>\n",
       "      <th>prev_attack_row_2</th>\n",
       "      <th>prev_attack_row_3</th>\n",
       "      <th>prev_attack_row_4</th>\n",
       "      <th>prev_attack_row_5</th>\n",
       "    </tr>\n",
       "    <tr>\n",
       "      <th>index</th>\n",
       "      <th></th>\n",
       "      <th></th>\n",
       "      <th></th>\n",
       "      <th></th>\n",
       "      <th></th>\n",
       "      <th></th>\n",
       "      <th></th>\n",
       "      <th></th>\n",
       "      <th></th>\n",
       "      <th></th>\n",
       "      <th></th>\n",
       "      <th></th>\n",
       "      <th></th>\n",
       "      <th></th>\n",
       "      <th></th>\n",
       "      <th></th>\n",
       "      <th></th>\n",
       "      <th></th>\n",
       "      <th></th>\n",
       "      <th></th>\n",
       "      <th></th>\n",
       "    </tr>\n",
       "  </thead>\n",
       "  <tbody>\n",
       "    <tr>\n",
       "      <th>2</th>\n",
       "      <td>0</td>\n",
       "      <td>-1</td>\n",
       "      <td>0</td>\n",
       "      <td>0</td>\n",
       "      <td>0</td>\n",
       "      <td>0</td>\n",
       "      <td>0</td>\n",
       "      <td>0</td>\n",
       "      <td>0</td>\n",
       "      <td>0</td>\n",
       "      <td>...</td>\n",
       "      <td>0</td>\n",
       "      <td>0</td>\n",
       "      <td>1</td>\n",
       "      <td>0</td>\n",
       "      <td>0</td>\n",
       "      <td>0</td>\n",
       "      <td>0</td>\n",
       "      <td>1</td>\n",
       "      <td>0</td>\n",
       "      <td>0</td>\n",
       "    </tr>\n",
       "    <tr>\n",
       "      <th>3</th>\n",
       "      <td>0</td>\n",
       "      <td>-1</td>\n",
       "      <td>0</td>\n",
       "      <td>0</td>\n",
       "      <td>0</td>\n",
       "      <td>0</td>\n",
       "      <td>0</td>\n",
       "      <td>0</td>\n",
       "      <td>0</td>\n",
       "      <td>0</td>\n",
       "      <td>...</td>\n",
       "      <td>0</td>\n",
       "      <td>0</td>\n",
       "      <td>0</td>\n",
       "      <td>0</td>\n",
       "      <td>1</td>\n",
       "      <td>0</td>\n",
       "      <td>0</td>\n",
       "      <td>0</td>\n",
       "      <td>0</td>\n",
       "      <td>1</td>\n",
       "    </tr>\n",
       "    <tr>\n",
       "      <th>4</th>\n",
       "      <td>0</td>\n",
       "      <td>-1</td>\n",
       "      <td>0</td>\n",
       "      <td>0</td>\n",
       "      <td>0</td>\n",
       "      <td>0</td>\n",
       "      <td>0</td>\n",
       "      <td>0</td>\n",
       "      <td>0</td>\n",
       "      <td>0</td>\n",
       "      <td>...</td>\n",
       "      <td>0</td>\n",
       "      <td>0</td>\n",
       "      <td>0</td>\n",
       "      <td>0</td>\n",
       "      <td>1</td>\n",
       "      <td>0</td>\n",
       "      <td>0</td>\n",
       "      <td>0</td>\n",
       "      <td>1</td>\n",
       "      <td>0</td>\n",
       "    </tr>\n",
       "    <tr>\n",
       "      <th>5</th>\n",
       "      <td>0</td>\n",
       "      <td>-1</td>\n",
       "      <td>0</td>\n",
       "      <td>0</td>\n",
       "      <td>0</td>\n",
       "      <td>0</td>\n",
       "      <td>0</td>\n",
       "      <td>0</td>\n",
       "      <td>0</td>\n",
       "      <td>0</td>\n",
       "      <td>...</td>\n",
       "      <td>0</td>\n",
       "      <td>0</td>\n",
       "      <td>0</td>\n",
       "      <td>0</td>\n",
       "      <td>1</td>\n",
       "      <td>0</td>\n",
       "      <td>0</td>\n",
       "      <td>1</td>\n",
       "      <td>0</td>\n",
       "      <td>0</td>\n",
       "    </tr>\n",
       "    <tr>\n",
       "      <th>6</th>\n",
       "      <td>0</td>\n",
       "      <td>-1</td>\n",
       "      <td>0</td>\n",
       "      <td>0</td>\n",
       "      <td>0</td>\n",
       "      <td>0</td>\n",
       "      <td>0</td>\n",
       "      <td>0</td>\n",
       "      <td>0</td>\n",
       "      <td>0</td>\n",
       "      <td>...</td>\n",
       "      <td>1</td>\n",
       "      <td>0</td>\n",
       "      <td>0</td>\n",
       "      <td>0</td>\n",
       "      <td>0</td>\n",
       "      <td>0</td>\n",
       "      <td>0</td>\n",
       "      <td>0</td>\n",
       "      <td>0</td>\n",
       "      <td>1</td>\n",
       "    </tr>\n",
       "  </tbody>\n",
       "</table>\n",
       "<p>5 rows × 38 columns</p>\n",
       "</div>"
      ],
      "text/plain": [
       "       cor_0  cor_1  cor_2  cor_3  cor_4  cor_5  cor_6  cor_7  cor_8  cor_9  \\\n",
       "index                                                                         \n",
       "2          0     -1      0      0      0      0      0      0      0      0   \n",
       "3          0     -1      0      0      0      0      0      0      0      0   \n",
       "4          0     -1      0      0      0      0      0      0      0      0   \n",
       "5          0     -1      0      0      0      0      0      0      0      0   \n",
       "6          0     -1      0      0      0      0      0      0      0      0   \n",
       "\n",
       "       ...  prev_attack_col_a  prev_attack_col_b  prev_attack_col_c  \\\n",
       "index  ...                                                            \n",
       "2      ...                  0                  0                  1   \n",
       "3      ...                  0                  0                  0   \n",
       "4      ...                  0                  0                  0   \n",
       "5      ...                  0                  0                  0   \n",
       "6      ...                  1                  0                  0   \n",
       "\n",
       "       prev_attack_col_d  prev_attack_col_e  prev_attack_row_1  \\\n",
       "index                                                            \n",
       "2                      0                  0                  0   \n",
       "3                      0                  1                  0   \n",
       "4                      0                  1                  0   \n",
       "5                      0                  1                  0   \n",
       "6                      0                  0                  0   \n",
       "\n",
       "       prev_attack_row_2  prev_attack_row_3  prev_attack_row_4  \\\n",
       "index                                                            \n",
       "2                      0                  1                  0   \n",
       "3                      0                  0                  0   \n",
       "4                      0                  0                  1   \n",
       "5                      0                  1                  0   \n",
       "6                      0                  0                  0   \n",
       "\n",
       "       prev_attack_row_5  \n",
       "index                     \n",
       "2                      0  \n",
       "3                      1  \n",
       "4                      0  \n",
       "5                      0  \n",
       "6                      1  \n",
       "\n",
       "[5 rows x 38 columns]"
      ]
     },
     "execution_count": 4,
     "metadata": {},
     "output_type": "execute_result"
    }
   ],
   "source": [
    "X_train.head()"
   ]
  },
  {
   "cell_type": "code",
   "execution_count": 5,
   "metadata": {},
   "outputs": [
    {
     "data": {
      "text/plain": [
       "<BarContainer object of 5 artists>"
      ]
     },
     "execution_count": 5,
     "metadata": {},
     "output_type": "execute_result"
    },
    {
     "data": {
      "image/png": "[encoded data removed]",
      "text/plain": [
       "<Figure size 432x288 with 1 Axes>"
      ]
     },
     "metadata": {
      "needs_background": "light"
     },
     "output_type": "display_data"
    }
   ],
   "source": [
    "plt.bar(y_train.attack_col.unique(),y_train['attack_col'].value_counts())"
   ]
  },
  {
   "cell_type": "code",
   "execution_count": 6,
   "metadata": {},
   "outputs": [
    {
     "data": {
      "text/plain": [
       "<BarContainer object of 5 artists>"
      ]
     },
     "execution_count": 6,
     "metadata": {},
     "output_type": "execute_result"
    },
    {
     "data": {
      "image/png": "[encoded data removed]",
      "text/plain": [
       "<Figure size 432x288 with 1 Axes>"
      ]
     },
     "metadata": {
      "needs_background": "light"
     },
     "output_type": "display_data"
    }
   ],
   "source": [
    "data = pd.concat([X_train, y_train], axis=1)\n",
    "plt.bar(data['attack_col'].unique(), data['attack_col'].value_counts())"
   ]
  },
  {
   "cell_type": "code",
   "execution_count": 7,
   "metadata": {},
   "outputs": [
    {
     "name": "stdout",
     "output_type": "stream",
     "text": [
      "(419, 39)\n",
      "(600, 39)\n"
     ]
    }
   ],
   "source": [
    "print(data.shape)\n",
    "max_num = max(data['attack_col'].value_counts())\n",
    "for label in data['attack_col'].unique():\n",
    "    label_data = data[data.attack_col == label]\n",
    "    data = pd.concat([data, label_data.sample(max_num - len(label_data))])\n",
    "print(data.shape)"
   ]
  },
  {
   "cell_type": "code",
   "execution_count": 8,
   "metadata": {},
   "outputs": [
    {
     "data": {
      "text/plain": [
       "<BarContainer object of 5 artists>"
      ]
     },
     "execution_count": 8,
     "metadata": {},
     "output_type": "execute_result"
    },
    {
     "data": {
      "image/png": "[encoded data removed]",
      "text/plain": [
       "<Figure size 432x288 with 1 Axes>"
      ]
     },
     "metadata": {
      "needs_background": "light"
     },
     "output_type": "display_data"
    }
   ],
   "source": [
    "plt.bar(data['attack_col'].unique(), data['attack_col'].value_counts())"
   ]
  },
  {
   "cell_type": "code",
   "execution_count": 9,
   "metadata": {},
   "outputs": [
    {
     "data": {
      "text/plain": [
       "((419, 38), (99, 38), (419, 1), (99, 1))"
      ]
     },
     "execution_count": 9,
     "metadata": {},
     "output_type": "execute_result"
    }
   ],
   "source": [
    "# already split from the files so, we dont need to do it here.\n",
    "# X_train, X_test, y_train, y_test = train_test_split(X, y, test_size=0.2)\n",
    "X_train.shape, X_test.shape, y_train.shape, y_test.shape"
   ]
  },
  {
   "cell_type": "code",
   "execution_count": 24,
   "metadata": {},
   "outputs": [
    {
     "name": "stdout",
     "output_type": "stream",
     "text": [
      "[0]\tvalidation_0-merror:0.40404\n",
      "Will train until validation_0-merror hasn't improved in 10 rounds.\n",
      "[1]\tvalidation_0-merror:0.373737\n",
      "[2]\tvalidation_0-merror:0.353535\n",
      "[3]\tvalidation_0-merror:0.343434\n",
      "[4]\tvalidation_0-merror:0.323232\n",
      "[5]\tvalidation_0-merror:0.333333\n",
      "[6]\tvalidation_0-merror:0.313131\n",
      "[7]\tvalidation_0-merror:0.343434\n",
      "[8]\tvalidation_0-merror:0.313131\n",
      "[9]\tvalidation_0-merror:0.313131\n",
      "[10]\tvalidation_0-merror:0.292929\n",
      "[11]\tvalidation_0-merror:0.282828\n",
      "[12]\tvalidation_0-merror:0.252525\n",
      "[13]\tvalidation_0-merror:0.252525\n",
      "[14]\tvalidation_0-merror:0.252525\n",
      "[15]\tvalidation_0-merror:0.242424\n",
      "[16]\tvalidation_0-merror:0.252525\n",
      "[17]\tvalidation_0-merror:0.242424\n",
      "[18]\tvalidation_0-merror:0.232323\n",
      "[19]\tvalidation_0-merror:0.212121\n",
      "[20]\tvalidation_0-merror:0.20202\n",
      "[21]\tvalidation_0-merror:0.212121\n",
      "[22]\tvalidation_0-merror:0.20202\n",
      "[23]\tvalidation_0-merror:0.20202\n",
      "[24]\tvalidation_0-merror:0.191919\n",
      "[25]\tvalidation_0-merror:0.191919\n",
      "[26]\tvalidation_0-merror:0.181818\n",
      "[27]\tvalidation_0-merror:0.181818\n",
      "[28]\tvalidation_0-merror:0.181818\n",
      "[29]\tvalidation_0-merror:0.181818\n",
      "[30]\tvalidation_0-merror:0.181818\n",
      "[31]\tvalidation_0-merror:0.171717\n",
      "[32]\tvalidation_0-merror:0.171717\n",
      "[33]\tvalidation_0-merror:0.171717\n",
      "[34]\tvalidation_0-merror:0.171717\n",
      "[35]\tvalidation_0-merror:0.171717\n",
      "[36]\tvalidation_0-merror:0.171717\n",
      "[37]\tvalidation_0-merror:0.171717\n",
      "[38]\tvalidation_0-merror:0.171717\n",
      "[39]\tvalidation_0-merror:0.171717\n",
      "[40]\tvalidation_0-merror:0.171717\n",
      "[41]\tvalidation_0-merror:0.171717\n",
      "Stopping. Best iteration:\n",
      "[31]\tvalidation_0-merror:0.171717\n",
      "\n"
     ]
    },
    {
     "data": {
      "text/plain": [
       "XGBClassifier(base_score=0.5, booster='gbtree', colsample_bylevel=1,\n",
       "              colsample_bynode=1, colsample_bytree=1, gamma=0,\n",
       "              learning_rate=0.1, max_delta_step=0, max_depth=16,\n",
       "              min_child_weight=1, missing=None, n_estimators=100, n_jobs=1,\n",
       "              nthread=None, num_class=5, objective='multi:softprob',\n",
       "              random_state=0, reg_alpha=0, reg_lambda=1, scale_pos_weight=1,\n",
       "              seed=None, silent=None, subsample=1, verbosity=1)"
      ]
     },
     "execution_count": 24,
     "metadata": {},
     "output_type": "execute_result"
    }
   ],
   "source": [
    "param_dist = {'objective':'multi:softmax', 'num_class':5, 'n_estimators':100, 'max_depth':16}\n",
    "clf_col = xgb.XGBClassifier(**param_dist)\n",
    "clf_col.fit(X_train, y_train, early_stopping_rounds=10, eval_metric='merror',  eval_set=[(X_test, y_test)])"
   ]
  },
  {
   "cell_type": "code",
   "execution_count": 25,
   "metadata": {},
   "outputs": [
    {
     "data": {
      "text/plain": [
       "0.8282828282828283"
      ]
     },
     "execution_count": 25,
     "metadata": {},
     "output_type": "execute_result"
    }
   ],
   "source": [
    "clf_col.score(X_test, y_test)"
   ]
  },
  {
   "cell_type": "code",
   "execution_count": 26,
   "metadata": {},
   "outputs": [
    {
     "data": {
      "text/plain": [
       "0.9880668257756563"
      ]
     },
     "execution_count": 26,
     "metadata": {},
     "output_type": "execute_result"
    }
   ],
   "source": [
    "clf_col.score(X_train, y_train)"
   ]
  },
  {
   "cell_type": "code",
   "execution_count": 27,
   "metadata": {},
   "outputs": [
    {
     "data": {
      "text/plain": [
       "array(['c', 'd', 'a', 'd', 'e', 'd', 'c', 'b', 'e', 'e', 'e', 'd', 'e',\n",
       "       'e', 'd', 'c', 'b', 'a', 'e', 'e', 'b', 'a', 'a', 'c', 'a', 'e',\n",
       "       'e', 'e', 'a', 'c', 'e', 'e', 'a', 'a', 'a', 'a', 'e', 'd', 'e',\n",
       "       'c', 'b', 'a', 'a', 'a', 'e', 'd', 'e', 'c', 'd', 'e', 'a', 'd',\n",
       "       'e', 'd', 'a', 'e', 'e', 'a', 'a', 'b', 'b', 'e', 'd', 'b', 'c',\n",
       "       'c', 'd', 'c', 'e', 'c', 'e', 'b', 'c', 'd', 'e', 'a', 'e', 'c',\n",
       "       'e', 'a', 'b', 'e', 'd', 'b', 'a', 'a', 'b', 'c', 'd', 'e', 'd',\n",
       "       'c', 'c', 'b', 'c', 'b', 'e', 'e', 'e'], dtype=object)"
      ]
     },
     "execution_count": 27,
     "metadata": {},
     "output_type": "execute_result"
    }
   ],
   "source": [
    "y_pred = clf_col.predict(X_test)\n",
    "y_pred"
   ]
  },
  {
   "cell_type": "code",
   "execution_count": 28,
   "metadata": {},
   "outputs": [
    {
     "name": "stdout",
     "output_type": "stream",
     "text": [
      "              precision    recall  f1-score   support\n",
      "\n",
      "           a       0.76      0.84      0.80        19\n",
      "           b       0.92      0.86      0.89        14\n",
      "           c       0.88      0.79      0.83        19\n",
      "           d       0.88      0.78      0.82        18\n",
      "           e       0.78      0.86      0.82        29\n",
      "\n",
      "    accuracy                           0.83        99\n",
      "   macro avg       0.84      0.83      0.83        99\n",
      "weighted avg       0.83      0.83      0.83        99\n",
      "\n"
     ]
    }
   ],
   "source": [
    "from sklearn.metrics import classification_report\n",
    "print(classification_report(y_test, y_pred))"
   ]
  },
  {
   "cell_type": "code",
   "execution_count": 29,
   "metadata": {},
   "outputs": [
    {
     "data": {
      "text/plain": [
       "array([[16,  0,  0,  0,  3],\n",
       "       [ 2, 12,  0,  0,  0],\n",
       "       [ 2,  0, 15,  1,  1],\n",
       "       [ 0,  0,  1, 14,  3],\n",
       "       [ 1,  1,  1,  1, 25]])"
      ]
     },
     "execution_count": 29,
     "metadata": {},
     "output_type": "execute_result"
    }
   ],
   "source": [
    "from sklearn.metrics import confusion_matrix\n",
    "cm = confusion_matrix(y_test, y_pred)\n",
    "cm"
   ]
  },
  {
   "cell_type": "code",
   "execution_count": 30,
   "metadata": {},
   "outputs": [
    {
     "data": {
      "text/plain": [
       "<matplotlib.axes._subplots.AxesSubplot at 0x7f4de53fed30>"
      ]
     },
     "execution_count": 30,
     "metadata": {},
     "output_type": "execute_result"
    },
    {
     "data": {
      "image/png": "[encoded data removed]",
      "text/plain": [
       "<Figure size 432x288 with 2 Axes>"
      ]
     },
     "metadata": {
      "needs_background": "light"
     },
     "output_type": "display_data"
    }
   ],
   "source": [
    "sns.heatmap(cm, xticklabels=clf_col.classes_, yticklabels=clf_col.classes_)"
   ]
  },
  {
   "cell_type": "code",
   "execution_count": 31,
   "metadata": {},
   "outputs": [
    {
     "data": {
      "text/plain": [
       "['clf-col-xgboost-Sun Oct 20 23:47:50 2019.joblib']"
      ]
     },
     "execution_count": 31,
     "metadata": {},
     "output_type": "execute_result"
    }
   ],
   "source": [
    "# Save the model\n",
    "from joblib import dump, load\n",
    "from datetime import datetime\n",
    "dump(clf_col, f'clf-col-xgboost-{datetime.now().ctime()}.joblib')\n"
   ]
  },
  {
   "cell_type": "code",
   "execution_count": 32,
   "metadata": {},
   "outputs": [
    {
     "name": "stderr",
     "output_type": "stream",
     "text": [
      "/usr/local/lib/python3.6/dist-packages/sklearn/model_selection/_split.py:1978: FutureWarning: The default value of cv will change from 3 to 5 in version 0.22. Specify it explicitly to silence this warning.\n",
      "  warnings.warn(CV_WARNING, FutureWarning)\n",
      "/usr/local/lib/python3.6/dist-packages/sklearn/preprocessing/label.py:219: DataConversionWarning: A column-vector y was passed when a 1d array was expected. Please change the shape of y to (n_samples, ), for example using ravel().\n",
      "  y = column_or_1d(y, warn=True)\n",
      "/usr/local/lib/python3.6/dist-packages/sklearn/preprocessing/label.py:252: DataConversionWarning: A column-vector y was passed when a 1d array was expected. Please change the shape of y to (n_samples, ), for example using ravel().\n",
      "  y = column_or_1d(y, warn=True)\n"
     ]
    },
    {
     "data": {
      "text/plain": [
       "((5,), (5, 3), (5, 3))"
      ]
     },
     "execution_count": 32,
     "metadata": {},
     "output_type": "execute_result"
    }
   ],
   "source": [
    "from sklearn.model_selection import learning_curve\n",
    "train_size, train_scores, cv_scores = learning_curve(clf_col, X_train, y_train)\n",
    "train_size.shape, train_scores.shape, cv_scores.shape"
   ]
  },
  {
   "cell_type": "code",
   "execution_count": 33,
   "metadata": {},
   "outputs": [],
   "source": [
    "train_scores_mean = np.mean(train_scores, axis=1)\n",
    "cv_scores_mean = np.mean(cv_scores, axis=1)"
   ]
  },
  {
   "cell_type": "code",
   "execution_count": 34,
   "metadata": {},
   "outputs": [
    {
     "data": {
      "image/png": "[encoded data removed]",
      "text/plain": [
       "<Figure size 432x288 with 1 Axes>"
      ]
     },
     "metadata": {
      "needs_background": "light"
     },
     "output_type": "display_data"
    }
   ],
   "source": [
    "plt.plot(train_size, train_scores_mean, 'o-', color='red', label='Training Score')\n",
    "plt.plot(train_size, cv_scores_mean, 'o-', color='green', label='CV Score')\n",
    "plt.legend()\n",
    "plt.show()"
   ]
  },
  {
   "cell_type": "code",
   "execution_count": null,
   "metadata": {},
   "outputs": [],
   "source": []
  }
 ],
 "metadata": {
  "kernelspec": {
   "display_name": "Python 3",
   "language": "python",
   "name": "python3"
  },
  "language_info": {
   "codemirror_mode": {
    "name": "ipython",
    "version": 3
   },
   "file_extension": ".py",
   "mimetype": "text/x-python",
   "name": "python",
   "nbconvert_exporter": "python",
   "pygments_lexer": "ipython3",
   "version": "3.6.8"
  }
 },
 "nbformat": 4,
 "nbformat_minor": 2
}
